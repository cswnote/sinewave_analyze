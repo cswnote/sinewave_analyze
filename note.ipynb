{
 "cells": [
  {
   "cell_type": "code",
   "execution_count": 1,
   "id": "bd37ef75",
   "metadata": {},
   "outputs": [],
   "source": [
    "import pandas as pd\n",
    "import numpy as np\n",
    "import sys\n",
    "import os"
   ]
  },
  {
   "cell_type": "code",
   "execution_count": 2,
   "id": "0f4842d2",
   "metadata": {},
   "outputs": [],
   "source": [
    "path = '/Users/rainyseason/winston/Workspace/python/Pycharm Project/sinewave_analyze/Evaluation/summary/summary 08Ch3 phantom I sweep.xlsx'"
   ]
  },
  {
   "cell_type": "code",
   "execution_count": 9,
   "id": "9f3f1a8d",
   "metadata": {},
   "outputs": [],
   "source": [
    "sheets = pd.ExcelFile(path).sheet_names"
   ]
  },
  {
   "cell_type": "code",
   "execution_count": 10,
   "id": "279f1f9f",
   "metadata": {},
   "outputs": [],
   "source": [
    "df = pd.read_excel(path, sheets[-1])"
   ]
  },
  {
   "cell_type": "code",
   "execution_count": 11,
   "id": "f16567b8",
   "metadata": {},
   "outputs": [
    {
     "data": {
      "text/html": [
       "<div>\n",
       "<style scoped>\n",
       "    .dataframe tbody tr th:only-of-type {\n",
       "        vertical-align: middle;\n",
       "    }\n",
       "\n",
       "    .dataframe tbody tr th {\n",
       "        vertical-align: top;\n",
       "    }\n",
       "\n",
       "    .dataframe thead th {\n",
       "        text-align: right;\n",
       "    }\n",
       "</style>\n",
       "<table border=\"1\" class=\"dataframe\">\n",
       "  <thead>\n",
       "    <tr style=\"text-align: right;\">\n",
       "      <th></th>\n",
       "      <th>filename</th>\n",
       "      <th>Board</th>\n",
       "      <th>ohm</th>\n",
       "      <th>Ch</th>\n",
       "      <th>PWM</th>\n",
       "      <th>Volt</th>\n",
       "      <th>Curr</th>\n",
       "      <th>V Frequency[MHz]</th>\n",
       "      <th>Delay(degree)</th>\n",
       "      <th>Ave. RP Coff</th>\n",
       "      <th>...</th>\n",
       "      <th>CP Pwm Ch 1</th>\n",
       "      <th>CP Pwm Ch 1 deviation</th>\n",
       "      <th>CP Pwm Ch 2</th>\n",
       "      <th>CP Pwm Ch 2 deviation</th>\n",
       "      <th>CP Pwm Ch 3</th>\n",
       "      <th>CP Pwm Ch 3 deviation</th>\n",
       "      <th>CP Pwm Ch 4</th>\n",
       "      <th>CP Pwm Ch 4 deviation</th>\n",
       "      <th>Loop Time 0.1 us</th>\n",
       "      <th>Loop Time 0.1 us deviation</th>\n",
       "    </tr>\n",
       "  </thead>\n",
       "  <tbody>\n",
       "    <tr>\n",
       "      <th>0</th>\n",
       "      <td>tek00052</td>\n",
       "      <td>08Ch3</td>\n",
       "      <td>08Ch3.xlsx</td>\n",
       "      <td>Ch3.xlsx</td>\n",
       "      <td>-</td>\n",
       "      <td>-</td>\n",
       "      <td>-</td>\n",
       "      <td>NaN</td>\n",
       "      <td>NaN</td>\n",
       "      <td>NaN</td>\n",
       "      <td>...</td>\n",
       "      <td>0.0</td>\n",
       "      <td>0.0</td>\n",
       "      <td>0.0</td>\n",
       "      <td>0.0</td>\n",
       "      <td>0.000000</td>\n",
       "      <td>0.000000</td>\n",
       "      <td>0.0</td>\n",
       "      <td>0.0</td>\n",
       "      <td>6.596000</td>\n",
       "      <td>0.034409</td>\n",
       "    </tr>\n",
       "    <tr>\n",
       "      <th>1</th>\n",
       "      <td>tek00053</td>\n",
       "      <td>08Ch3</td>\n",
       "      <td>08Ch3.xlsx</td>\n",
       "      <td>Ch3.xlsx</td>\n",
       "      <td>-</td>\n",
       "      <td>-</td>\n",
       "      <td>-</td>\n",
       "      <td>NaN</td>\n",
       "      <td>NaN</td>\n",
       "      <td>NaN</td>\n",
       "      <td>...</td>\n",
       "      <td>0.0</td>\n",
       "      <td>0.0</td>\n",
       "      <td>0.0</td>\n",
       "      <td>0.0</td>\n",
       "      <td>0.187500</td>\n",
       "      <td>0.153603</td>\n",
       "      <td>0.0</td>\n",
       "      <td>0.0</td>\n",
       "      <td>6.587500</td>\n",
       "      <td>0.033072</td>\n",
       "    </tr>\n",
       "    <tr>\n",
       "      <th>2</th>\n",
       "      <td>tek00054</td>\n",
       "      <td>08Ch3</td>\n",
       "      <td>08Ch3.xlsx</td>\n",
       "      <td>Ch3.xlsx</td>\n",
       "      <td>-</td>\n",
       "      <td>-</td>\n",
       "      <td>-</td>\n",
       "      <td>NaN</td>\n",
       "      <td>NaN</td>\n",
       "      <td>NaN</td>\n",
       "      <td>...</td>\n",
       "      <td>0.0</td>\n",
       "      <td>0.0</td>\n",
       "      <td>0.0</td>\n",
       "      <td>0.0</td>\n",
       "      <td>0.281818</td>\n",
       "      <td>0.234785</td>\n",
       "      <td>0.0</td>\n",
       "      <td>0.0</td>\n",
       "      <td>6.595455</td>\n",
       "      <td>0.036647</td>\n",
       "    </tr>\n",
       "    <tr>\n",
       "      <th>3</th>\n",
       "      <td>tek00055</td>\n",
       "      <td>08Ch3</td>\n",
       "      <td>08Ch3.xlsx</td>\n",
       "      <td>Ch3.xlsx</td>\n",
       "      <td>-</td>\n",
       "      <td>-</td>\n",
       "      <td>-</td>\n",
       "      <td>NaN</td>\n",
       "      <td>NaN</td>\n",
       "      <td>NaN</td>\n",
       "      <td>...</td>\n",
       "      <td>0.0</td>\n",
       "      <td>0.0</td>\n",
       "      <td>0.0</td>\n",
       "      <td>0.0</td>\n",
       "      <td>0.262500</td>\n",
       "      <td>0.285500</td>\n",
       "      <td>0.0</td>\n",
       "      <td>0.0</td>\n",
       "      <td>6.587500</td>\n",
       "      <td>0.033072</td>\n",
       "    </tr>\n",
       "    <tr>\n",
       "      <th>4</th>\n",
       "      <td>tek00056</td>\n",
       "      <td>08Ch3</td>\n",
       "      <td>08Ch3.xlsx</td>\n",
       "      <td>Ch3.xlsx</td>\n",
       "      <td>-</td>\n",
       "      <td>-</td>\n",
       "      <td>-</td>\n",
       "      <td>NaN</td>\n",
       "      <td>NaN</td>\n",
       "      <td>NaN</td>\n",
       "      <td>...</td>\n",
       "      <td>0.0</td>\n",
       "      <td>0.0</td>\n",
       "      <td>0.0</td>\n",
       "      <td>0.0</td>\n",
       "      <td>0.158333</td>\n",
       "      <td>0.170579</td>\n",
       "      <td>0.0</td>\n",
       "      <td>0.0</td>\n",
       "      <td>6.579167</td>\n",
       "      <td>0.040612</td>\n",
       "    </tr>\n",
       "  </tbody>\n",
       "</table>\n",
       "<p>5 rows × 49 columns</p>\n",
       "</div>"
      ],
      "text/plain": [
       "   filename  Board         ohm        Ch PWM Volt Curr  V Frequency[MHz]  \\\n",
       "0  tek00052  08Ch3  08Ch3.xlsx  Ch3.xlsx   -    -    -               NaN   \n",
       "1  tek00053  08Ch3  08Ch3.xlsx  Ch3.xlsx   -    -    -               NaN   \n",
       "2  tek00054  08Ch3  08Ch3.xlsx  Ch3.xlsx   -    -    -               NaN   \n",
       "3  tek00055  08Ch3  08Ch3.xlsx  Ch3.xlsx   -    -    -               NaN   \n",
       "4  tek00056  08Ch3  08Ch3.xlsx  Ch3.xlsx   -    -    -               NaN   \n",
       "\n",
       "   Delay(degree)  Ave. RP Coff  ...  CP Pwm Ch 1  CP Pwm Ch 1 deviation  \\\n",
       "0            NaN           NaN  ...          0.0                    0.0   \n",
       "1            NaN           NaN  ...          0.0                    0.0   \n",
       "2            NaN           NaN  ...          0.0                    0.0   \n",
       "3            NaN           NaN  ...          0.0                    0.0   \n",
       "4            NaN           NaN  ...          0.0                    0.0   \n",
       "\n",
       "   CP Pwm Ch 2  CP Pwm Ch 2 deviation  CP Pwm Ch 3  CP Pwm Ch 3 deviation  \\\n",
       "0          0.0                    0.0     0.000000               0.000000   \n",
       "1          0.0                    0.0     0.187500               0.153603   \n",
       "2          0.0                    0.0     0.281818               0.234785   \n",
       "3          0.0                    0.0     0.262500               0.285500   \n",
       "4          0.0                    0.0     0.158333               0.170579   \n",
       "\n",
       "   CP Pwm Ch 4  CP Pwm Ch 4 deviation  Loop Time 0.1 us  \\\n",
       "0          0.0                    0.0          6.596000   \n",
       "1          0.0                    0.0          6.587500   \n",
       "2          0.0                    0.0          6.595455   \n",
       "3          0.0                    0.0          6.587500   \n",
       "4          0.0                    0.0          6.579167   \n",
       "\n",
       "   Loop Time 0.1 us deviation  \n",
       "0                    0.034409  \n",
       "1                    0.033072  \n",
       "2                    0.036647  \n",
       "3                    0.033072  \n",
       "4                    0.040612  \n",
       "\n",
       "[5 rows x 49 columns]"
      ]
     },
     "execution_count": 11,
     "metadata": {},
     "output_type": "execute_result"
    }
   ],
   "source": [
    "df.head()"
   ]
  },
  {
   "cell_type": "code",
   "execution_count": 15,
   "id": "3a574603",
   "metadata": {},
   "outputs": [
    {
     "data": {
      "text/plain": [
       "['RF Volt Ch 1',\n",
       " 'RF Volt Ch 2',\n",
       " 'RF Volt Ch 3',\n",
       " 'RF Volt Ch 4',\n",
       " 'CP Pwm Ch 1',\n",
       " 'CP Pwm Ch 2',\n",
       " 'CP Pwm Ch 3',\n",
       " 'CP Pwm Ch 4']"
      ]
     },
     "execution_count": 15,
     "metadata": {},
     "output_type": "execute_result"
    }
   ],
   "source": [
    "columns = [col for col in df.columns if ('RF Volt' in col or 'Pwm Ch' in col) and 'deviation' not in col]\n",
    "columns"
   ]
  },
  {
   "cell_type": "code",
   "execution_count": 16,
   "id": "a483c49e",
   "metadata": {},
   "outputs": [],
   "source": [
    "for col in columns:\n",
    "    for i in range(len(df)):\n",
    "        df.at[i, col] = df.at[i, col] * 0.1"
   ]
  },
  {
   "cell_type": "code",
   "execution_count": 23,
   "id": "6d706535",
   "metadata": {},
   "outputs": [
    {
     "name": "stdout",
     "output_type": "stream",
     "text": [
      "그 시트 있다 안카나:  with kmon correction\n"
     ]
    }
   ],
   "source": [
    "sheet_name = 'with kmon correction'\n",
    "if not os.path.exists(path):\n",
    "    with pd.ExcelWriter(path, mode='w', engine='openpyxl') as writer:\n",
    "        df.to_excel(writer, sheet_name, index=False)\n",
    "        print('create sheet: ', sheet_name)\n",
    "else:\n",
    "    with pd.ExcelWriter(path, mode='a', engine='openpyxl') as writer:\n",
    "        try:\n",
    "            df.to_excel(writer, sheet_name, index=False)\n",
    "        except:\n",
    "            print('그 시트 있다 안카나: ', sheet_name)"
   ]
  },
  {
   "cell_type": "code",
   "execution_count": 22,
   "id": "abf6201d",
   "metadata": {},
   "outputs": [
    {
     "data": {
      "text/plain": [
       "'/Users/rainyseason/winston/Workspace/python/Pycharm Project/sinewave_analyze/Evaluation/summary/summary 08Ch3 phantom I sweep.xlsx'"
      ]
     },
     "execution_count": 22,
     "metadata": {},
     "output_type": "execute_result"
    }
   ],
   "source": [
    "path"
   ]
  },
  {
   "cell_type": "code",
   "execution_count": null,
   "id": "0f0618f8",
   "metadata": {},
   "outputs": [],
   "source": []
  },
  {
   "cell_type": "code",
   "execution_count": null,
   "id": "86c092ae",
   "metadata": {},
   "outputs": [],
   "source": []
  }
 ],
 "metadata": {
  "kernelspec": {
   "display_name": "test310",
   "language": "python",
   "name": "test310"
  },
  "language_info": {
   "codemirror_mode": {
    "name": "ipython",
    "version": 3
   },
   "file_extension": ".py",
   "mimetype": "text/x-python",
   "name": "python",
   "nbconvert_exporter": "python",
   "pygments_lexer": "ipython3",
   "version": "3.10.4"
  }
 },
 "nbformat": 4,
 "nbformat_minor": 5
}
