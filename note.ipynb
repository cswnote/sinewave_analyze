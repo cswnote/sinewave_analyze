{
 "cells": [
  {
   "cell_type": "code",
   "execution_count": 1,
   "id": "8792255d",
   "metadata": {},
   "outputs": [],
   "source": [
    "import os\n",
    "import pandas as pd\n",
    "import platform\n",
    "import FILE_MANAGEMENT\n",
    "import TEK_CSV\n",
    "import GET_SUMMARY"
   ]
  },
  {
   "cell_type": "code",
   "execution_count": 2,
   "id": "84678544",
   "metadata": {},
   "outputs": [],
   "source": [
    "if platform.platform()[:3].lower() == 'mac':\n",
    "    mac_m1 = True\n",
    "elif platform.platform()[:3].lower() == 'win':\n",
    "    mac_m1 = False"
   ]
  },
  {
   "cell_type": "code",
   "execution_count": 3,
   "id": "4c2a0ef5",
   "metadata": {},
   "outputs": [],
   "source": [
    "if mac_m1:\n",
    "    path = '/Users/rainyseason/winston/Workspace/python/Pycharm Project/sinewave_analyze/Evaluation/'\n",
    "    path_csv = path + 'tek_csv/'\n",
    "    path_excel = path + 'tek_excel/'\n",
    "    path_summary = path + 'summary/'\n",
    "    path_information = path + 'test information/'\n",
    "    path_kmon = path + 'kmon_csv'\n",
    "else:\n",
    "    path = 'D:/data_analyze/'\n",
    "    path_csv = path + 'tek_csv/'\n",
    "    path_excel = path + 'tek_excel/'\n",
    "    path_summary = path + 'summary/'\n",
    "    path_information = path + 'test information/'\n",
    "    path_kmon = path + 'kmon_csv/'"
   ]
  },
  {
   "cell_type": "code",
   "execution_count": 6,
   "id": "ad9c99fa",
   "metadata": {
    "scrolled": true
   },
   "outputs": [
    {
     "data": {
      "text/plain": [
       "['tek0000 ch1 ch2.xlsx',\n",
       " 'tek0000 ch3 ch4.xlsx',\n",
       " 'tek0001 ch1 ch2.xlsx',\n",
       " 'tek0001 ch3 ch4.xlsx',\n",
       " 'tek0002 ch1 ch2.xlsx',\n",
       " 'tek0002 ch3 ch4.xlsx',\n",
       " 'tek0003 ch1 ch2.xlsx',\n",
       " 'tek0003 ch3 ch4.xlsx',\n",
       " 'tek0004 ch1 ch2.xlsx',\n",
       " 'tek0004 ch3 ch4.xlsx',\n",
       " 'tek0005 ch1 ch2.xlsx',\n",
       " 'tek0005 ch3 ch4.xlsx',\n",
       " 'tek0006 ch1 ch2.xlsx',\n",
       " 'tek0006 ch3 ch4.xlsx',\n",
       " 'tek0007 ch1 ch2.xlsx',\n",
       " 'tek0007 ch3 ch4.xlsx',\n",
       " 'tek0008 ch1 ch2.xlsx',\n",
       " 'tek0008 ch3 ch4.xlsx',\n",
       " 'tek0009 ch1 ch2.xlsx',\n",
       " 'tek0009 ch3 ch4.xlsx',\n",
       " 'tek0010 ch1 ch2.xlsx',\n",
       " 'tek0010 ch3 ch4.xlsx',\n",
       " 'tek0011 ch1 ch2.xlsx',\n",
       " 'tek0011 ch3 ch4.xlsx']"
      ]
     },
     "execution_count": 6,
     "metadata": {},
     "output_type": "execute_result"
    }
   ],
   "source": [
    "path_excel = 'D:\\\\data_analyze\\\\tek_excel\\\\'\n",
    "files = os.listdir(path_excel)\n",
    "files = [file for file in files if '$' not in file]\n",
    "files"
   ]
  },
  {
   "cell_type": "code",
   "execution_count": 8,
   "id": "26613d8e",
   "metadata": {},
   "outputs": [],
   "source": [
    "brass = [0, 1, 2, 3]\n",
    "dongil = [4, 5, 6, 7]\n",
    "dongil2 = [8, 9, 10, 11]"
   ]
  },
  {
   "cell_type": "code",
   "execution_count": 9,
   "id": "3884b1f6",
   "metadata": {},
   "outputs": [
    {
     "name": "stdout",
     "output_type": "stream",
     "text": [
      "0 4 8\n",
      "1 5 9\n",
      "2 6 10\n",
      "3 7 11\n"
     ]
    }
   ],
   "source": [
    "for (i, j, k) in zip(brass, dongil, dongil2):\n",
    "    print(i, j, k)"
   ]
  },
  {
   "cell_type": "code",
   "execution_count": 10,
   "id": "5169f991",
   "metadata": {},
   "outputs": [],
   "source": [
    "data ={}"
   ]
  },
  {
   "cell_type": "code",
   "execution_count": 13,
   "id": "773193c4",
   "metadata": {},
   "outputs": [
    {
     "data": {
      "text/plain": [
       "{'Vrms_all': [],\n",
       " 'Irms_all': [],\n",
       " 'angle_all': [],\n",
       " 'Vrms_R': [],\n",
       " 'Irms_R': [],\n",
       " 'angle_R': []}"
      ]
     },
     "execution_count": 13,
     "metadata": {},
     "output_type": "execute_result"
    }
   ],
   "source": [
    "data_type = ['Vrms_all', 'Irms_all', 'angle_all', 'Vrms_R', 'Irms_R', 'angle_R']\n",
    "for key in data_type:\n",
    "    data[key] = []\n",
    "data"
   ]
  },
  {
   "cell_type": "code",
   "execution_count": 12,
   "id": "02d35bb5",
   "metadata": {},
   "outputs": [
    {
     "data": {
      "text/plain": [
       "{'Vrms_all': []}"
      ]
     },
     "execution_count": 12,
     "metadata": {},
     "output_type": "execute_result"
    }
   ],
   "source": []
  },
  {
   "cell_type": "code",
   "execution_count": null,
   "id": "fedb1676",
   "metadata": {},
   "outputs": [],
   "source": []
  },
  {
   "cell_type": "code",
   "execution_count": null,
   "id": "99512e72",
   "metadata": {},
   "outputs": [],
   "source": []
  },
  {
   "cell_type": "code",
   "execution_count": null,
   "id": "164ff809",
   "metadata": {},
   "outputs": [],
   "source": []
  },
  {
   "cell_type": "code",
   "execution_count": null,
   "id": "43bfd8c6",
   "metadata": {},
   "outputs": [],
   "source": []
  },
  {
   "cell_type": "code",
   "execution_count": 7,
   "id": "157374a7",
   "metadata": {},
   "outputs": [
    {
     "name": "stdout",
     "output_type": "stream",
     "text": [
      "                   Model    MDO34 Unnamed: 2  Unnamed: 3  Vmean  \\\n",
      "0       Firmware Version   1.10.4        NaN         NaN    NaN   \n",
      "1                    NaN      NaN        NaN         NaN  Imean   \n",
      "2          Waveform Type   ANALOG        NaN         NaN    NaN   \n",
      "3           Point Format        Y        NaN         NaN    NaN   \n",
      "4       Horizontal Units        s        NaN         NaN    NaN   \n",
      "...                  ...      ...        ...         ...    ...   \n",
      "100015           0.00004 -0.00672        0.2         NaN    NaN   \n",
      "100016           0.00004 -0.00672          0         NaN    NaN   \n",
      "100017           0.00004 -0.00784          0         NaN    NaN   \n",
      "100018           0.00004 -0.00784        0.2         NaN    NaN   \n",
      "100019           0.00004 -0.00784        0.2         NaN    NaN   \n",
      "\n",
      "        0.6978589200751253             V freq[MHz]  0.1500600240096039  \\\n",
      "0                      NaN           V rising time       -3.992320e-05   \n",
      "1                 0.000052           I rising time       -3.988480e-05   \n",
      "2                      NaN              difference       -3.840000e-08   \n",
      "3                      NaN                   angle       -2.073600e+00   \n",
      "4                      NaN  real power Coefficient        9.993452e-01   \n",
      "...                    ...                     ...                 ...   \n",
      "100015                 NaN                     NaN                 NaN   \n",
      "100016                 NaN                     NaN                 NaN   \n",
      "100017                 NaN                     NaN                 NaN   \n",
      "100018                 NaN                     NaN                 NaN   \n",
      "100019                 NaN                     NaN                 NaN   \n",
      "\n",
      "        0.1502945773716484  0.1494142959598374  0.1504211793020457  \\\n",
      "0            -3.325920e-05       -2.660560e-05       -1.991280e-05   \n",
      "1            -3.321360e-05       -2.654240e-05       -1.993680e-05   \n",
      "2            -4.560000e-08       -6.320000e-08        2.400000e-08   \n",
      "3            -2.462400e+00       -3.412800e+00        1.296000e+00   \n",
      "4             9.990766e-01        9.982266e-01        9.997442e-01   \n",
      "...                    ...                 ...                 ...   \n",
      "100015                 NaN                 NaN                 NaN   \n",
      "100016                 NaN                 NaN                 NaN   \n",
      "100017                 NaN                 NaN                 NaN   \n",
      "100018                 NaN                 NaN                 NaN   \n",
      "100019                 NaN                 NaN                 NaN   \n",
      "\n",
      "        0.1498621268433041  0.1502042778178322  0.1501140867058965  \\\n",
      "0            -1.326480e-05       -6.592000e-06        6.560000e-08   \n",
      "1            -1.326240e-05       -6.572000e-06        7.040000e-08   \n",
      "2            -2.400000e-09       -2.000000e-08       -4.800000e-09   \n",
      "3            -1.296000e-01       -1.080000e+00       -2.592000e-01   \n",
      "4             9.999974e-01        9.998224e-01        9.999898e-01   \n",
      "...                    ...                 ...                 ...   \n",
      "100015                 NaN                 NaN                 NaN   \n",
      "100016                 NaN                 NaN                 NaN   \n",
      "100017                 NaN                 NaN                 NaN   \n",
      "100018                 NaN                 NaN                 NaN   \n",
      "100019                 NaN                 NaN                 NaN   \n",
      "\n",
      "        0.1500780405811022  0.1498262016061368  0.1494142959598375  \\\n",
      "0             6.727200e-06        1.339040e-05        2.006480e-05   \n",
      "1             6.700800e-06        1.343520e-05        2.009600e-05   \n",
      "2             2.640000e-08       -4.480000e-08       -3.120000e-08   \n",
      "3             1.425600e+00       -2.419200e+00       -1.684800e+00   \n",
      "4             9.996905e-01        9.991087e-01        9.995677e-01   \n",
      "...                    ...                 ...                 ...   \n",
      "100015                 NaN                 NaN                 NaN   \n",
      "100016                 NaN                 NaN                 NaN   \n",
      "100017                 NaN                 NaN                 NaN   \n",
      "100018                 NaN                 NaN                 NaN   \n",
      "100019                 NaN                 NaN                 NaN   \n",
      "\n",
      "        0.1508932882665379   Unnamed: 18 0.1500529449476166  \n",
      "0             2.675760e-05  3.338480e-05                NaN  \n",
      "1             2.676240e-05  3.343280e-05                NaN  \n",
      "2            -4.800000e-09 -4.800000e-08                NaN  \n",
      "3            -2.592000e-01 -2.592000e+00            -1.1376  \n",
      "4             9.999898e-01  9.989769e-01                NaN  \n",
      "...                    ...           ...                ...  \n",
      "100015                 NaN           NaN                NaN  \n",
      "100016                 NaN           NaN                NaN  \n",
      "100017                 NaN           NaN                NaN  \n",
      "100018                 NaN           NaN                NaN  \n",
      "100019                 NaN           NaN                NaN  \n",
      "\n",
      "[100020 rows x 20 columns]\n"
     ]
    }
   ],
   "source": [
    "prefix = 0\n",
    "\n",
    "for i, file in enumerate(files):\n",
    "    if prefix != file.split(' ')[0]:\n",
    "        df = pd.read_excel(path_excel + file)\n",
    "        print(df)\n",
    "    break"
   ]
  },
  {
   "cell_type": "code",
   "execution_count": null,
   "id": "84ccd8c0",
   "metadata": {},
   "outputs": [],
   "source": []
  }
 ],
 "metadata": {
  "kernelspec": {
   "display_name": "autotest",
   "language": "python",
   "name": "autotest"
  },
  "language_info": {
   "codemirror_mode": {
    "name": "ipython",
    "version": 3
   },
   "file_extension": ".py",
   "mimetype": "text/x-python",
   "name": "python",
   "nbconvert_exporter": "python",
   "pygments_lexer": "ipython3",
   "version": "3.9.7"
  }
 },
 "nbformat": 4,
 "nbformat_minor": 5
}
