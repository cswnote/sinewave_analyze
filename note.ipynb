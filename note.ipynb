{
 "cells": [
  {
   "cell_type": "code",
   "execution_count": 1,
   "id": "bd37ef75",
   "metadata": {},
   "outputs": [],
   "source": [
    "import pandas as pd\n",
    "import numpy as np\n",
    "import sys\n",
    "import os"
   ]
  },
  {
   "cell_type": "code",
   "execution_count": 31,
   "id": "0f4842d2",
   "metadata": {},
   "outputs": [],
   "source": [
    "path = 'D:/data_analyze/tek_excel/Ch3/'"
   ]
  },
  {
   "cell_type": "code",
   "execution_count": 32,
   "id": "279f1f9f",
   "metadata": {},
   "outputs": [],
   "source": [
    "files = os.listdir(path)"
   ]
  },
  {
   "cell_type": "code",
   "execution_count": 33,
   "id": "672c2e9a",
   "metadata": {},
   "outputs": [],
   "source": [
    "files = [file for file in files if len(file) > 10 and '$' not in file]"
   ]
  },
  {
   "cell_type": "code",
   "execution_count": 34,
   "id": "f4202c37",
   "metadata": {},
   "outputs": [
    {
     "data": {
      "text/plain": [
       "['tek01010 08Ch3.xlsx',\n",
       " 'tek01011 08Ch3.xlsx',\n",
       " 'tek01012 08Ch3.xlsx',\n",
       " 'tek01013 08Ch3.xlsx',\n",
       " 'tek01014 08Ch3.xlsx',\n",
       " 'tek01015 08Ch3.xlsx',\n",
       " 'tek01016 08Ch3.xlsx',\n",
       " 'tek01017 08Ch3.xlsx',\n",
       " 'tek01018 08Ch3.xlsx',\n",
       " 'tek01019 08Ch3.xlsx',\n",
       " 'tek01020 08Ch3.xlsx',\n",
       " 'tek01021 08Ch3.xlsx',\n",
       " 'tek01022 08Ch3.xlsx',\n",
       " 'tek01023 08Ch3.xlsx',\n",
       " 'tek01024 08Ch3.xlsx',\n",
       " 'tek01025 08Ch3.xlsx',\n",
       " 'tek01026 08Ch3.xlsx',\n",
       " 'tek01027 08Ch3.xlsx',\n",
       " 'tek01028 08Ch3.xlsx',\n",
       " 'tek01029 08Ch3.xlsx',\n",
       " 'tek01030 08Ch3.xlsx',\n",
       " 'tek01031 08Ch3.xlsx',\n",
       " 'tek01032 08Ch3.xlsx',\n",
       " 'tek01033 08Ch3.xlsx',\n",
       " 'tek01034 08Ch3.xlsx',\n",
       " 'tek01035 08Ch3.xlsx',\n",
       " 'tek01036 08Ch3.xlsx',\n",
       " 'tek01037 08Ch3.xlsx',\n",
       " 'tek01038 08Ch3.xlsx',\n",
       " 'tek01039 08Ch3.xlsx',\n",
       " 'tek01040 08Ch3.xlsx',\n",
       " 'tek01041 08Ch3.xlsx',\n",
       " 'tek01042 08Ch3.xlsx',\n",
       " 'tek01043 08Ch3.xlsx',\n",
       " 'tek01044 08Ch3.xlsx',\n",
       " 'tek01045 08Ch3.xlsx',\n",
       " 'tek01046 08Ch3.xlsx',\n",
       " 'tek01047 08Ch3.xlsx',\n",
       " 'tek01048 08Ch3.xlsx',\n",
       " 'tek01049 08Ch3.xlsx',\n",
       " 'tek01050 08Ch3.xlsx',\n",
       " 'tek01051 08Ch3.xlsx',\n",
       " 'tek01052 08Ch3.xlsx',\n",
       " 'tek01053 08Ch3.xlsx',\n",
       " 'tek01054 08Ch3.xlsx',\n",
       " 'tek01055 08Ch3.xlsx',\n",
       " 'tek01056 08Ch3.xlsx',\n",
       " 'tek01057 08Ch3.xlsx',\n",
       " 'tek01058 08Ch3.xlsx',\n",
       " 'tek01059 08Ch3.xlsx',\n",
       " 'tek01060 08Ch3.xlsx']"
      ]
     },
     "execution_count": 34,
     "metadata": {},
     "output_type": "execute_result"
    }
   ],
   "source": [
    "files.sort()\n",
    "files"
   ]
  },
  {
   "cell_type": "code",
   "execution_count": 42,
   "id": "34df1cb1",
   "metadata": {
    "scrolled": true
   },
   "outputs": [],
   "source": [
    "for file in files:\n",
    "    src = path + file\n",
    "    name = file[:3]\n",
    "    num = int(file[4:9]) - 5\n",
    "    extension = file[-11:]\n",
    "    dst = path + name + str(num) + extension\n",
    "    os.rename(src, dst)\n",
    "#     print(\"{} ====> {}\".format(src, dst))"
   ]
  },
  {
   "cell_type": "code",
   "execution_count": 27,
   "id": "a9454153",
   "metadata": {},
   "outputs": [
    {
     "ename": "NameError",
     "evalue": "name 'I' is not defined",
     "output_type": "error",
     "traceback": [
      "\u001b[1;31m---------------------------------------------------------------------------\u001b[0m",
      "\u001b[1;31mNameError\u001b[0m                                 Traceback (most recent call last)",
      "Cell \u001b[1;32mIn [27], line 2\u001b[0m\n\u001b[0;32m      1\u001b[0m l \u001b[38;5;241m=\u001b[39m \u001b[38;5;241m250\u001b[39m\u001b[38;5;241m-\u001b[39m\u001b[38;5;241m0\u001b[39m\n\u001b[1;32m----> 2\u001b[0m \u001b[43mI\u001b[49m \u001b[38;5;241m*\u001b[39m \u001b[38;5;241m4\u001b[39m\n",
      "\u001b[1;31mNameError\u001b[0m: name 'I' is not defined"
     ]
    }
   ],
   "source": []
  },
  {
   "cell_type": "code",
   "execution_count": 28,
   "id": "02717ac0",
   "metadata": {},
   "outputs": [
    {
     "data": {
      "text/plain": [
       "251"
      ]
     },
     "execution_count": 28,
     "metadata": {},
     "output_type": "execute_result"
    }
   ],
   "source": [
    "1055-804"
   ]
  },
  {
   "cell_type": "code",
   "execution_count": null,
   "id": "f16567b8",
   "metadata": {},
   "outputs": [],
   "source": []
  },
  {
   "cell_type": "code",
   "execution_count": null,
   "id": "3a574603",
   "metadata": {},
   "outputs": [],
   "source": []
  },
  {
   "cell_type": "code",
   "execution_count": null,
   "id": "a483c49e",
   "metadata": {},
   "outputs": [],
   "source": []
  },
  {
   "cell_type": "code",
   "execution_count": null,
   "id": "6d706535",
   "metadata": {},
   "outputs": [],
   "source": []
  },
  {
   "cell_type": "code",
   "execution_count": null,
   "id": "abf6201d",
   "metadata": {},
   "outputs": [],
   "source": []
  },
  {
   "cell_type": "code",
   "execution_count": null,
   "id": "0f0618f8",
   "metadata": {},
   "outputs": [],
   "source": []
  },
  {
   "cell_type": "code",
   "execution_count": null,
   "id": "86c092ae",
   "metadata": {},
   "outputs": [],
   "source": []
  }
 ],
 "metadata": {
  "kernelspec": {
   "display_name": "autotest",
   "language": "python",
   "name": "autotest"
  },
  "language_info": {
   "codemirror_mode": {
    "name": "ipython",
    "version": 3
   },
   "file_extension": ".py",
   "mimetype": "text/x-python",
   "name": "python",
   "nbconvert_exporter": "python",
   "pygments_lexer": "ipython3",
   "version": "3.9.7"
  }
 },
 "nbformat": 4,
 "nbformat_minor": 5
}
