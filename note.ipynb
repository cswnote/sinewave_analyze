{
 "cells": [
  {
   "cell_type": "code",
   "execution_count": 2,
   "id": "bd37ef75",
   "metadata": {},
   "outputs": [],
   "source": [
    "import pandas as pd\n",
    "import numpy as np\n",
    "import sys"
   ]
  },
  {
   "cell_type": "code",
   "execution_count": 268,
   "id": "0363008b",
   "metadata": {},
   "outputs": [],
   "source": [
    "Ro = 100\n",
    "Rload = 100\n",
    "Rin = 150\n"
   ]
  },
  {
   "cell_type": "code",
   "execution_count": 269,
   "id": "af3c95b9",
   "metadata": {},
   "outputs": [],
   "source": [
    "def get_parallel_R(r_list):\n",
    "    temp =0\n",
    "    for r in r_list:\n",
    "        try:\n",
    "            round(float(r), 6)\n",
    "        except:\n",
    "            print(\"{} is not number\".format(r))\n",
    "            print(\"시스템을 종료합니다.\")\n",
    "            sys.exit()\n",
    "        temp = temp + round(1 / r, 5)\n",
    "    return round(1/temp, 4)"
   ]
  },
  {
   "cell_type": "code",
   "execution_count": 270,
   "id": "457a612b",
   "metadata": {},
   "outputs": [
    {
     "data": {
      "text/plain": [
       "1.0"
      ]
     },
     "execution_count": 270,
     "metadata": {},
     "output_type": "execute_result"
    }
   ],
   "source": [
    "get_parallel_R([3, 3, 3])"
   ]
  },
  {
   "cell_type": "code",
   "execution_count": 271,
   "id": "dd80bf17",
   "metadata": {},
   "outputs": [],
   "source": [
    "Ra2 = Rin + get_parallel_R([Rload, Ro])\n",
    "Ra1 = get_parallel_R([Ra2, Rload])"
   ]
  },
  {
   "cell_type": "code",
   "execution_count": 272,
   "id": "08557391",
   "metadata": {},
   "outputs": [],
   "source": [
    "Ra0 = Ro + Ra1"
   ]
  },
  {
   "cell_type": "code",
   "execution_count": 273,
   "id": "4c2c2ea5",
   "metadata": {},
   "outputs": [],
   "source": [
    "V1 = 43\n",
    "V2 = 33"
   ]
  },
  {
   "cell_type": "code",
   "execution_count": 274,
   "id": "a915a8ca",
   "metadata": {},
   "outputs": [],
   "source": [
    "I1 = V1 / Ra0\n",
    "I2 = V2 / Ra0"
   ]
  },
  {
   "cell_type": "code",
   "execution_count": 275,
   "id": "4c7a80af",
   "metadata": {},
   "outputs": [
    {
     "data": {
      "text/plain": [
       "(0.25799994840001034, 0.19799996040000792)"
      ]
     },
     "execution_count": 275,
     "metadata": {},
     "output_type": "execute_result"
    }
   ],
   "source": [
    "I1, I2"
   ]
  },
  {
   "cell_type": "code",
   "execution_count": 239,
   "id": "647e4620",
   "metadata": {},
   "outputs": [
    {
     "data": {
      "text/plain": [
       "228.7001"
      ]
     },
     "execution_count": 239,
     "metadata": {},
     "output_type": "execute_result"
    }
   ],
   "source": [
    "Ra0"
   ]
  },
  {
   "cell_type": "code",
   "execution_count": null,
   "id": "5d4b9973",
   "metadata": {},
   "outputs": [],
   "source": []
  },
  {
   "cell_type": "code",
   "execution_count": null,
   "id": "0f4842d2",
   "metadata": {},
   "outputs": [],
   "source": []
  },
  {
   "cell_type": "code",
   "execution_count": null,
   "id": "a483c49e",
   "metadata": {},
   "outputs": [],
   "source": []
  },
  {
   "cell_type": "code",
   "execution_count": null,
   "id": "6d706535",
   "metadata": {},
   "outputs": [],
   "source": []
  },
  {
   "cell_type": "code",
   "execution_count": null,
   "id": "abf6201d",
   "metadata": {},
   "outputs": [],
   "source": []
  },
  {
   "cell_type": "code",
   "execution_count": null,
   "id": "0f0618f8",
   "metadata": {},
   "outputs": [],
   "source": []
  },
  {
   "cell_type": "code",
   "execution_count": null,
   "id": "86c092ae",
   "metadata": {},
   "outputs": [],
   "source": []
  }
 ],
 "metadata": {
  "kernelspec": {
   "display_name": "tek",
   "language": "python",
   "name": "tek"
  },
  "language_info": {
   "codemirror_mode": {
    "name": "ipython",
    "version": 3
   },
   "file_extension": ".py",
   "mimetype": "text/x-python",
   "name": "python",
   "nbconvert_exporter": "python",
   "pygments_lexer": "ipython3",
   "version": "3.8.13"
  }
 },
 "nbformat": 4,
 "nbformat_minor": 5
}
