{
 "cells": [
  {
   "cell_type": "code",
   "execution_count": null,
   "id": "bd37ef75",
   "metadata": {},
   "outputs": [],
   "source": [
    "import pandas as pd\n",
    "import numpy as np\n",
    "import sys\n",
    "import os"
   ]
  },
  {
   "cell_type": "code",
   "execution_count": null,
   "id": "0f4842d2",
   "metadata": {},
   "outputs": [],
   "source": [
    "path = 'D:/data_analyze/tek_excel/'"
   ]
  },
  {
   "cell_type": "code",
   "execution_count": null,
   "id": "9f3f1a8d",
   "metadata": {},
   "outputs": [],
   "source": [
    "files = os.listdir(path)"
   ]
  },
  {
   "cell_type": "code",
   "execution_count": null,
   "id": "b4a34b83",
   "metadata": {},
   "outputs": [],
   "source": [
    "files = files[-51:]"
   ]
  },
  {
   "cell_type": "code",
   "execution_count": null,
   "id": "4eff6435",
   "metadata": {},
   "outputs": [],
   "source": [
    "files"
   ]
  },
  {
   "cell_type": "code",
   "execution_count": null,
   "id": "8f8ee69e",
   "metadata": {},
   "outputs": [],
   "source": [
    "for file in files:\n",
    "    sheets = pd.ExcelFile(path + file).sheet_names\n",
    "    df = pd.read_excel(path + file, sheet_name=sheets[0])\n",
    "    \n",
    "    \n",
    "    sheet_name = 'tek0' + str(int(sheets[0][-4:]) - 5)\n",
    "    print(\"{}   {}\".format(sheets[0], sheet_name))\n",
    "    if not os.path.exists(path):\n",
    "        with pd.ExcelWriter(path + file, mode='w', engine='openpyxl') as writer:\n",
    "            df.to_excel(writer, sheet_name, index=False)\n",
    "            print('create sheet: ', sheet_name)\n",
    "    else:\n",
    "        with pd.ExcelWriter(path + file, mode='a', engine='openpyxl') as writer:\n",
    "            try:\n",
    "                df.to_excel(writer, sheet_name, index=False)\n",
    "            except:\n",
    "                print('그 시트 있다 안카나: ', sheet_name)"
   ]
  },
  {
   "cell_type": "code",
   "execution_count": null,
   "id": "2a01496b",
   "metadata": {},
   "outputs": [],
   "source": []
  },
  {
   "cell_type": "code",
   "execution_count": null,
   "id": "279f1f9f",
   "metadata": {},
   "outputs": [],
   "source": [
    "df = pd.read_excel(path, sheets[-1])"
   ]
  },
  {
   "cell_type": "code",
   "execution_count": null,
   "id": "f16567b8",
   "metadata": {},
   "outputs": [],
   "source": [
    "df.head()"
   ]
  },
  {
   "cell_type": "code",
   "execution_count": null,
   "id": "3a574603",
   "metadata": {},
   "outputs": [],
   "source": [
    "columns = [col for col in df.columns if ('RF Volt' in col or 'Pwm Ch' in col) and 'deviation' not in col]\n",
    "columns"
   ]
  },
  {
   "cell_type": "code",
   "execution_count": null,
   "id": "a483c49e",
   "metadata": {},
   "outputs": [],
   "source": [
    "for col in columns:\n",
    "    for i in range(len(df)):\n",
    "        df.at[i, col] = df.at[i, col] * 0.1"
   ]
  },
  {
   "cell_type": "code",
   "execution_count": null,
   "id": "6d706535",
   "metadata": {},
   "outputs": [],
   "source": [
    "sheet_name = 'with kmon correction'\n",
    "if not os.path.exists(path):\n",
    "    with pd.ExcelWriter(path, mode='w', engine='openpyxl') as writer:\n",
    "        df.to_excel(writer, sheet_name, index=False)\n",
    "        print('create sheet: ', sheet_name)\n",
    "else:\n",
    "    with pd.ExcelWriter(path, mode='a', engine='openpyxl') as writer:\n",
    "        try:\n",
    "            df.to_excel(writer, sheet_name, index=False)\n",
    "        except:\n",
    "            print('그 시트 있다 안카나: ', sheet_name)"
   ]
  },
  {
   "cell_type": "code",
   "execution_count": null,
   "id": "abf6201d",
   "metadata": {},
   "outputs": [],
   "source": [
    "path"
   ]
  },
  {
   "cell_type": "code",
   "execution_count": null,
   "id": "0f0618f8",
   "metadata": {},
   "outputs": [],
   "source": []
  },
  {
   "cell_type": "code",
   "execution_count": null,
   "id": "86c092ae",
   "metadata": {},
   "outputs": [],
   "source": []
  }
 ],
 "metadata": {
  "kernelspec": {
   "display_name": "autotest",
   "language": "python",
   "name": "autotest"
  },
  "language_info": {
   "codemirror_mode": {
    "name": "ipython",
    "version": 3
   },
   "file_extension": ".py",
   "mimetype": "text/x-python",
   "name": "python",
   "nbconvert_exporter": "python",
   "pygments_lexer": "ipython3",
   "version": "3.9.7"
  }
 },
 "nbformat": 4,
 "nbformat_minor": 5
}
