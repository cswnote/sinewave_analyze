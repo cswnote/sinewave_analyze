{
 "cells": [
  {
   "cell_type": "code",
   "execution_count": 1,
   "id": "bd37ef75",
   "metadata": {},
   "outputs": [],
   "source": [
    "import pandas as pd\n",
    "import numpy as np\n",
    "import sys\n",
    "import os"
   ]
  },
  {
   "cell_type": "code",
   "execution_count": 108,
   "id": "0f4842d2",
   "metadata": {},
   "outputs": [],
   "source": [
    "path = 'D:/data_analyze/tek_excel/'"
   ]
  },
  {
   "cell_type": "code",
   "execution_count": 114,
   "id": "10524723",
   "metadata": {},
   "outputs": [
    {
     "data": {
      "text/plain": [
       "['tek00010.xlsx',\n",
       " 'tek00023.xlsx',\n",
       " 'tek00035.xlsx',\n",
       " 'tek00048.xlsx',\n",
       " 'tek00299.xlsx',\n",
       " 'tek00550.xlsx',\n",
       " 'tek00794.xlsx',\n",
       " 'tek00966.xlsx']"
      ]
     },
     "execution_count": 114,
     "metadata": {},
     "output_type": "execute_result"
    }
   ],
   "source": [
    "files = os.listdir(path)\n",
    "files = [file for file in files if len(file)==13]\n",
    "files"
   ]
  },
  {
   "cell_type": "code",
   "execution_count": 35,
   "id": "f4545275",
   "metadata": {},
   "outputs": [
    {
     "ename": "TypeError",
     "evalue": "'NoneType' object is not iterable",
     "output_type": "error",
     "traceback": [
      "\u001b[1;31m---------------------------------------------------------------------------\u001b[0m",
      "\u001b[1;31mTypeError\u001b[0m                                 Traceback (most recent call last)",
      "Cell \u001b[1;32mIn [35], line 1\u001b[0m\n\u001b[1;32m----> 1\u001b[0m \u001b[38;5;28;01mfor\u001b[39;00m file \u001b[38;5;129;01min\u001b[39;00m files:\n\u001b[0;32m      2\u001b[0m     src \u001b[38;5;241m=\u001b[39m path \u001b[38;5;241m+\u001b[39m file\n\u001b[0;32m      3\u001b[0m     dst \u001b[38;5;241m=\u001b[39m path \u001b[38;5;241m+\u001b[39m file[:\u001b[38;5;241m8\u001b[39m] \u001b[38;5;241m+\u001b[39m \u001b[38;5;124m'\u001b[39m\u001b[38;5;124m 08Ch4\u001b[39m\u001b[38;5;124m'\u001b[39m\u001b[38;5;241m+\u001b[39m file[\u001b[38;5;241m-\u001b[39m\u001b[38;5;241m4\u001b[39m:]\n",
      "\u001b[1;31mTypeError\u001b[0m: 'NoneType' object is not iterable"
     ]
    }
   ],
   "source": [
    "for file in files:\n",
    "    src = path + file\n",
    "    dst = path + file[:8] + ' 08Ch4'+ file[-4:]\n",
    "#     os.rename(src, dst)\n",
    "    print(dst)"
   ]
  },
  {
   "cell_type": "code",
   "execution_count": null,
   "id": "b799bfb9",
   "metadata": {},
   "outputs": [],
   "source": []
  }
 ],
 "metadata": {
  "kernelspec": {
   "display_name": "autotest",
   "language": "python",
   "name": "autotest"
  },
  "language_info": {
   "codemirror_mode": {
    "name": "ipython",
    "version": 3
   },
   "file_extension": ".py",
   "mimetype": "text/x-python",
   "name": "python",
   "nbconvert_exporter": "python",
   "pygments_lexer": "ipython3",
   "version": "3.9.7"
  }
 },
 "nbformat": 4,
 "nbformat_minor": 5
}
