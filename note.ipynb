{
 "cells": [
  {
   "cell_type": "code",
   "execution_count": 8,
   "id": "819f1181",
   "metadata": {},
   "outputs": [],
   "source": [
    "import os\n",
    "import pandas as pd\n",
    "import numpy as np"
   ]
  },
  {
   "cell_type": "code",
   "execution_count": 16,
   "id": "1f2a17b4",
   "metadata": {},
   "outputs": [],
   "source": [
    "path = 'C:/data_analyze/tek_excel/Ch3/'"
   ]
  },
  {
   "cell_type": "code",
   "execution_count": 18,
   "id": "a9d81b26",
   "metadata": {},
   "outputs": [
    {
     "data": {
      "text/plain": [
       "['tek02262.xlsx',\n",
       " 'tek02263.xlsx',\n",
       " 'tek02264.xlsx',\n",
       " 'tek02265.xlsx',\n",
       " 'tek02266.xlsx',\n",
       " 'tek02267.xlsx',\n",
       " 'tek02268.xlsx',\n",
       " 'tek02269.xlsx',\n",
       " 'tek02270.xlsx',\n",
       " 'tek02271.xlsx',\n",
       " 'tek02272.xlsx',\n",
       " 'tek02273.xlsx',\n",
       " 'tek02274.xlsx',\n",
       " 'tek02275.xlsx',\n",
       " 'tek02276.xlsx',\n",
       " 'tek02277.xlsx',\n",
       " 'tek02278.xlsx',\n",
       " 'tek02279.xlsx',\n",
       " 'tek02280.xlsx',\n",
       " 'tek02281.xlsx',\n",
       " 'tek02282.xlsx',\n",
       " 'tek02283.xlsx',\n",
       " 'tek02284.xlsx',\n",
       " 'tek02285.xlsx',\n",
       " 'tek02286.xlsx',\n",
       " 'tek02287.xlsx',\n",
       " 'tek02288.xlsx',\n",
       " 'tek02289.xlsx',\n",
       " 'tek02290.xlsx',\n",
       " 'tek02291.xlsx',\n",
       " 'tek02292.xlsx',\n",
       " 'tek02293.xlsx',\n",
       " 'tek02294.xlsx',\n",
       " 'tek02295.xlsx',\n",
       " 'tek02296.xlsx',\n",
       " 'tek02297.xlsx',\n",
       " 'tek02298.xlsx',\n",
       " 'tek02299.xlsx',\n",
       " 'tek02300.xlsx',\n",
       " 'tek02301.xlsx',\n",
       " 'tek02302.xlsx',\n",
       " 'tek02303.xlsx',\n",
       " 'tek02304.xlsx',\n",
       " 'tek02305.xlsx',\n",
       " 'tek02306.xlsx',\n",
       " 'tek02307.xlsx',\n",
       " 'tek02308.xlsx',\n",
       " 'tek02309.xlsx',\n",
       " 'tek02310.xlsx',\n",
       " 'tek02311.xlsx']"
      ]
     },
     "execution_count": 18,
     "metadata": {},
     "output_type": "execute_result"
    }
   ],
   "source": [
    "files = os.listdir(path)\n",
    "files = [file for file in files if file[:3] == 'tek']\n",
    "files"
   ]
  },
  {
   "cell_type": "code",
   "execution_count": 19,
   "id": "c30fe2b6",
   "metadata": {},
   "outputs": [],
   "source": [
    "for file in files:\n",
    "    src = path + file\n",
    "    name = file.split('.')[0] + ' 08Ch3' + '.xlsx'\n",
    "    dst = path + name\n",
    "    os.rename(src, dst)"
   ]
  },
  {
   "cell_type": "code",
   "execution_count": null,
   "id": "154a1a30",
   "metadata": {},
   "outputs": [],
   "source": []
  },
  {
   "cell_type": "code",
   "execution_count": null,
   "id": "f31a4451",
   "metadata": {},
   "outputs": [],
   "source": []
  },
  {
   "cell_type": "code",
   "execution_count": null,
   "id": "9d8209e8",
   "metadata": {},
   "outputs": [],
   "source": []
  },
  {
   "cell_type": "code",
   "execution_count": null,
   "id": "7896bdd1",
   "metadata": {},
   "outputs": [],
   "source": []
  },
  {
   "cell_type": "code",
   "execution_count": null,
   "id": "afb88aff",
   "metadata": {},
   "outputs": [],
   "source": []
  },
  {
   "cell_type": "code",
   "execution_count": null,
   "id": "4150efae",
   "metadata": {},
   "outputs": [],
   "source": []
  },
  {
   "cell_type": "code",
   "execution_count": null,
   "id": "a3a2799d",
   "metadata": {},
   "outputs": [],
   "source": []
  },
  {
   "cell_type": "code",
   "execution_count": null,
   "id": "de8eae0e",
   "metadata": {},
   "outputs": [],
   "source": []
  },
  {
   "cell_type": "code",
   "execution_count": null,
   "id": "ae1e07f1",
   "metadata": {},
   "outputs": [],
   "source": []
  },
  {
   "cell_type": "code",
   "execution_count": null,
   "id": "b1e952de",
   "metadata": {},
   "outputs": [],
   "source": []
  },
  {
   "cell_type": "code",
   "execution_count": null,
   "id": "7e937e93",
   "metadata": {},
   "outputs": [],
   "source": []
  },
  {
   "cell_type": "code",
   "execution_count": null,
   "id": "c8dc5f0c",
   "metadata": {},
   "outputs": [],
   "source": []
  },
  {
   "cell_type": "code",
   "execution_count": null,
   "id": "4beaad8f",
   "metadata": {},
   "outputs": [],
   "source": []
  },
  {
   "cell_type": "code",
   "execution_count": null,
   "id": "03ab36af",
   "metadata": {},
   "outputs": [],
   "source": []
  },
  {
   "cell_type": "code",
   "execution_count": null,
   "id": "4448e797",
   "metadata": {},
   "outputs": [],
   "source": []
  },
  {
   "cell_type": "code",
   "execution_count": null,
   "id": "7900b02c",
   "metadata": {},
   "outputs": [],
   "source": []
  },
  {
   "cell_type": "code",
   "execution_count": null,
   "id": "0bdc8c9c",
   "metadata": {},
   "outputs": [],
   "source": []
  },
  {
   "cell_type": "code",
   "execution_count": null,
   "id": "cd6bbb2c",
   "metadata": {},
   "outputs": [],
   "source": []
  },
  {
   "cell_type": "code",
   "execution_count": null,
   "id": "90d44fe5",
   "metadata": {},
   "outputs": [],
   "source": []
  },
  {
   "cell_type": "code",
   "execution_count": null,
   "id": "3d52f8c0",
   "metadata": {},
   "outputs": [],
   "source": []
  },
  {
   "cell_type": "code",
   "execution_count": null,
   "id": "607a72e7",
   "metadata": {},
   "outputs": [],
   "source": []
  }
 ],
 "metadata": {
  "kernelspec": {
   "display_name": "tek",
   "language": "python",
   "name": "tek"
  },
  "language_info": {
   "codemirror_mode": {
    "name": "ipython",
    "version": 3
   },
   "file_extension": ".py",
   "mimetype": "text/x-python",
   "name": "python",
   "nbconvert_exporter": "python",
   "pygments_lexer": "ipython3",
   "version": "3.8.13"
  }
 },
 "nbformat": 4,
 "nbformat_minor": 5
}
