{
 "cells": [
  {
   "cell_type": "code",
   "execution_count": 1,
   "id": "8792255d",
   "metadata": {},
   "outputs": [],
   "source": [
    "import os\n",
    "import pandas as pd\n",
    "import platform\n",
    "import FILE_MANAGEMENT\n",
    "import TEK_CSV\n",
    "import GET_SUMMARY"
   ]
  },
  {
   "cell_type": "code",
   "execution_count": 2,
   "id": "84678544",
   "metadata": {},
   "outputs": [],
   "source": [
    "if platform.platform()[:3].lower() == 'mac':\n",
    "    mac_m1 = True\n",
    "elif platform.platform()[:3].lower() == 'win':\n",
    "    mac_m1 = False"
   ]
  },
  {
   "cell_type": "code",
   "execution_count": 3,
   "id": "4c2a0ef5",
   "metadata": {},
   "outputs": [],
   "source": [
    "if mac_m1:\n",
    "    path = '/Users/rainyseason/winston/Workspace/python/Pycharm Project/sinewave_analyze/Evaluation/'\n",
    "    path_csv = path + 'tek_csv/'\n",
    "    path_excel = path + 'tek_excel/'\n",
    "    path_summary = path + 'summary/'\n",
    "    path_information = path + 'test information/'\n",
    "    path_kmon = path + 'kmon_csv'\n",
    "else:\n",
    "    path = 'D:/data_analyze/'\n",
    "    path_csv = path + 'tek_csv/'\n",
    "    path_excel = path + 'tek_excel/'\n",
    "    path_summary = path + 'summary/'\n",
    "    path_information = path + 'test information/'\n",
    "    path_kmon = path + 'kmon_csv/'"
   ]
  },
  {
   "cell_type": "code",
   "execution_count": 4,
   "id": "ad9c99fa",
   "metadata": {},
   "outputs": [],
   "source": [
    "path = 'D:/winston/Desktop/새 폴더/'"
   ]
  },
  {
   "cell_type": "code",
   "execution_count": 5,
   "id": "157374a7",
   "metadata": {},
   "outputs": [
    {
     "data": {
      "text/plain": [
       "['desktop.ini',\n",
       " 'tek0000.csv',\n",
       " 'tek0000.png',\n",
       " 'tek0000.set',\n",
       " 'tek0001.csv',\n",
       " 'tek0001.png',\n",
       " 'tek0001.set',\n",
       " 'tek0002.csv',\n",
       " 'tek0002.png',\n",
       " 'tek0002.set',\n",
       " 'tek0003.csv',\n",
       " 'tek0003.png',\n",
       " 'tek0003.set',\n",
       " 'tek0004.csv',\n",
       " 'tek0004.png',\n",
       " 'tek0004.set',\n",
       " 'tek0005.csv',\n",
       " 'tek0005.set',\n",
       " 'test 0 1',\n",
       " 'test 2',\n",
       " 'test 3']"
      ]
     },
     "execution_count": 5,
     "metadata": {},
     "output_type": "execute_result"
    }
   ],
   "source": [
    "files = os.listdir(path)\n",
    "files"
   ]
  },
  {
   "cell_type": "code",
   "execution_count": 6,
   "id": "6f6419f2",
   "metadata": {},
   "outputs": [
    {
     "data": {
      "text/plain": [
       "['tek0000.csv',\n",
       " 'tek0000.png',\n",
       " 'tek0000.set',\n",
       " 'tek0001.csv',\n",
       " 'tek0001.png',\n",
       " 'tek0001.set',\n",
       " 'tek0002.csv',\n",
       " 'tek0002.png',\n",
       " 'tek0002.set',\n",
       " 'tek0003.csv',\n",
       " 'tek0003.png',\n",
       " 'tek0003.set',\n",
       " 'tek0004.csv',\n",
       " 'tek0004.png',\n",
       " 'tek0004.set',\n",
       " 'tek0005.csv',\n",
       " 'tek0005.set']"
      ]
     },
     "execution_count": 6,
     "metadata": {},
     "output_type": "execute_result"
    }
   ],
   "source": [
    "files = [file for file in files if file[:3] == 'tek']\n",
    "files"
   ]
  },
  {
   "cell_type": "code",
   "execution_count": 11,
   "id": "33e8c948",
   "metadata": {},
   "outputs": [],
   "source": [
    "for file in files:\n",
    "    num = int(file[3:7])\n",
    "    if num == 0:\n",
    "        num = 961\n",
    "    elif num == 3:\n",
    "        num = 962\n",
    "    elif num == 5:\n",
    "        num = 963\n",
    "    elif num == 4:\n",
    "        num = 964\n",
    "    elif num == 1:\n",
    "        num = 965\n",
    "    elif num == 2:\n",
    "        num = 966\n",
    "    scr = path + file\n",
    "    dst = path + 'tek' + '00' + str(num) + file[-4:]\n",
    "    os.rename(scr, dst)"
   ]
  },
  {
   "cell_type": "code",
   "execution_count": null,
   "id": "84ccd8c0",
   "metadata": {},
   "outputs": [],
   "source": []
  }
 ],
 "metadata": {
  "kernelspec": {
   "display_name": "autotest",
   "language": "python",
   "name": "autotest"
  },
  "language_info": {
   "codemirror_mode": {
    "name": "ipython",
    "version": 3
   },
   "file_extension": ".py",
   "mimetype": "text/x-python",
   "name": "python",
   "nbconvert_exporter": "python",
   "pygments_lexer": "ipython3",
   "version": "3.8.0"
  }
 },
 "nbformat": 4,
 "nbformat_minor": 5
}
