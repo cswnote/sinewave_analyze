{
 "cells": [
  {
   "cell_type": "code",
   "execution_count": 4,
   "id": "b86807f4",
   "metadata": {},
   "outputs": [],
   "source": [
    "import shutil\n",
    "import os"
   ]
  },
  {
   "cell_type": "code",
   "execution_count": 30,
   "id": "aa765faf",
   "metadata": {},
   "outputs": [],
   "source": [
    "path = 'E:/ch3 0~50 V , ch4 50V/'"
   ]
  },
  {
   "cell_type": "code",
   "execution_count": 31,
   "id": "2bca2be7",
   "metadata": {},
   "outputs": [],
   "source": [
    "os.makedirs(path + 'png')\n",
    "os.makedirs(path + 'csv')\n",
    "os.makedirs(path + 'set')"
   ]
  },
  {
   "cell_type": "code",
   "execution_count": 32,
   "id": "80432b30",
   "metadata": {},
   "outputs": [],
   "source": [
    "files = os.listdir(path)\n",
    "files = [file for file in files if file[:3] == 'tek']"
   ]
  },
  {
   "cell_type": "code",
   "execution_count": 33,
   "id": "7ac830fa",
   "metadata": {},
   "outputs": [],
   "source": [
    "for file in files:\n",
    "    src = path + file\n",
    "    if file[-3:] == 'png':\n",
    "        dst = path + 'png/' + file\n",
    "        shutil.move(src, dst)\n",
    "    elif file[-3:] == 'csv':\n",
    "        dst = path + 'csv/' + file\n",
    "        shutil.move(src, dst)\n",
    "    elif file[-3:] == 'set':\n",
    "        dst = path + 'set/' + file\n",
    "        shutil.move(src, dst)\n",
    "            "
   ]
  },
  {
   "cell_type": "code",
   "execution_count": null,
   "id": "d288f3be",
   "metadata": {},
   "outputs": [],
   "source": []
  },
  {
   "cell_type": "code",
   "execution_count": null,
   "id": "c43ddcd0",
   "metadata": {},
   "outputs": [],
   "source": []
  },
  {
   "cell_type": "code",
   "execution_count": null,
   "id": "c41b4f69",
   "metadata": {},
   "outputs": [],
   "source": []
  },
  {
   "cell_type": "code",
   "execution_count": null,
   "id": "574579b2",
   "metadata": {},
   "outputs": [],
   "source": []
  },
  {
   "cell_type": "code",
   "execution_count": null,
   "id": "ae249372",
   "metadata": {},
   "outputs": [],
   "source": []
  },
  {
   "cell_type": "code",
   "execution_count": null,
   "id": "61bb5191",
   "metadata": {},
   "outputs": [],
   "source": []
  },
  {
   "cell_type": "code",
   "execution_count": null,
   "id": "6b81e69e",
   "metadata": {},
   "outputs": [],
   "source": []
  },
  {
   "cell_type": "code",
   "execution_count": null,
   "id": "6954bd2f",
   "metadata": {},
   "outputs": [],
   "source": []
  },
  {
   "cell_type": "code",
   "execution_count": null,
   "id": "6f099d73",
   "metadata": {},
   "outputs": [],
   "source": []
  },
  {
   "cell_type": "code",
   "execution_count": null,
   "id": "3cf6067c",
   "metadata": {},
   "outputs": [],
   "source": []
  }
 ],
 "metadata": {
  "kernelspec": {
   "display_name": "autotest",
   "language": "python",
   "name": "autotest"
  },
  "language_info": {
   "codemirror_mode": {
    "name": "ipython",
    "version": 3
   },
   "file_extension": ".py",
   "mimetype": "text/x-python",
   "name": "python",
   "nbconvert_exporter": "python",
   "pygments_lexer": "ipython3",
   "version": "3.9.7"
  }
 },
 "nbformat": 4,
 "nbformat_minor": 5
}
