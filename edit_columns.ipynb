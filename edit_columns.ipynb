{
 "cells": [
  {
   "cell_type": "code",
   "execution_count": 1,
   "id": "6397e94f",
   "metadata": {},
   "outputs": [],
   "source": [
    "import math\n",
    "import os\n",
    "import openpyxl\n",
    "import platform\n",
    "import numpy as np\n",
    "import pandas as pd"
   ]
  },
  {
   "cell_type": "code",
   "execution_count": 2,
   "id": "2f470a7b",
   "metadata": {},
   "outputs": [],
   "source": [
    "if platform.platform()[:3].lower() == 'mac':\n",
    "    mac_m1 = True\n",
    "elif platform.platform()[:3].lower() == 'win':\n",
    "    mac_m1 = False\n",
    "    \n",
    "if mac_m1:\n",
    "    path = '/Users/rainyseason/winston/Workspace/python/Pycharm Project/sinewave_analyze/Evaluation/'\n",
    "    path_csv = path + 'tek_csv/'\n",
    "    path_excel = path + 'tek_excel/'\n",
    "    path_summary = path + 'summary/'\n",
    "    path_information = path + 'test information/'\n",
    "    path_kmon = path + 'kmon_csv'\n",
    "else:\n",
    "    path = 'D:/winston/OneDrive - (주)필드큐어/data_analyze/'\n",
    "    path_csv = path + 'tek_csv/'\n",
    "    path_excel = path + 'tek_excel/'\n",
    "    path_summary = path + 'summary/'\n",
    "    path_information = path + 'test information/'\n",
    "    path_kmon = path + 'kmon_csv/'\n",
    "    \n",
    "evaluation_control_file = 'eval_control.xlsx'"
   ]
  },
  {
   "cell_type": "code",
   "execution_count": 34,
   "id": "6681b609",
   "metadata": {},
   "outputs": [],
   "source": [
    "path = '/Users/rainyseason/Downloads/I/png/'"
   ]
  },
  {
   "cell_type": "code",
   "execution_count": 21,
   "id": "e40dc722",
   "metadata": {
    "scrolled": false
   },
   "outputs": [],
   "source": [
    "path_tarket = '/Users/rainyseason/Downloads/I/temp/'"
   ]
  },
  {
   "cell_type": "code",
   "execution_count": 35,
   "id": "211212f2",
   "metadata": {
    "scrolled": false
   },
   "outputs": [
    {
     "data": {
      "text/plain": [
       "['pngtek00008.png',\n",
       " 'pngtek00020.png',\n",
       " 'pngtek00034.png',\n",
       " 'pngtek00035.png',\n",
       " 'pngtek00021.png',\n",
       " 'pngtek00009.png',\n",
       " 'pngtek00037.png',\n",
       " 'pngtek00023.png',\n",
       " 'pngtek00022.png',\n",
       " 'pngtek00036.png',\n",
       " 'pngtek00032.png',\n",
       " 'pngtek00026.png',\n",
       " 'pngtek00027.png',\n",
       " 'pngtek00033.png',\n",
       " 'pngtek00025.png',\n",
       " 'pngtek00031.png',\n",
       " 'pngtek00019.png',\n",
       " 'pngtek00018.png',\n",
       " 'pngtek00030.png',\n",
       " 'pngtek00024.png',\n",
       " 'pngtek00029.png',\n",
       " 'pngtek00001.png',\n",
       " 'pngtek00015.png',\n",
       " 'pngtek00014.png',\n",
       " 'pngtek00000.png',\n",
       " 'pngtek00028.png',\n",
       " 'pngtek00016.png',\n",
       " 'pngtek00002.png',\n",
       " 'pngtek00003.png',\n",
       " 'pngtek00017.png',\n",
       " 'pngtek00013.png',\n",
       " 'pngtek00007.png',\n",
       " 'pngtek00006.png',\n",
       " 'pngtek00012.png',\n",
       " 'pngtek00004.png',\n",
       " 'pngtek00010.png',\n",
       " 'pngtek00038.png',\n",
       " 'pngtek00011.png',\n",
       " 'pngtek00005.png']"
      ]
     },
     "execution_count": 35,
     "metadata": {},
     "output_type": "execute_result"
    }
   ],
   "source": [
    "files = os.listdir(path)\n",
    "files = [file for file in files if file[-4:] == '.png']\n",
    "files"
   ]
  },
  {
   "cell_type": "code",
   "execution_count": 36,
   "id": "2490cb24",
   "metadata": {},
   "outputs": [],
   "source": [
    "for file in files:\n",
    "    src = path + file\n",
    "    dst = path + file[:3]\n",
    "    os.rename(src, dst)"
   ]
  },
  {
   "cell_type": "code",
   "execution_count": null,
   "id": "5d9ed6b1",
   "metadata": {},
   "outputs": [],
   "source": [
    "files"
   ]
  },
  {
   "cell_type": "code",
   "execution_count": 27,
   "id": "58ab329d",
   "metadata": {},
   "outputs": [],
   "source": [
    "os.makedirs(path + 'png')"
   ]
  },
  {
   "cell_type": "code",
   "execution_count": null,
   "id": "5af809a5",
   "metadata": {},
   "outputs": [],
   "source": [
    "fo"
   ]
  },
  {
   "cell_type": "code",
   "execution_count": null,
   "id": "ceeff34a",
   "metadata": {},
   "outputs": [],
   "source": []
  },
  {
   "cell_type": "code",
   "execution_count": null,
   "id": "4651ccef",
   "metadata": {},
   "outputs": [],
   "source": []
  },
  {
   "cell_type": "code",
   "execution_count": null,
   "id": "9b36a99a",
   "metadata": {},
   "outputs": [],
   "source": []
  },
  {
   "cell_type": "code",
   "execution_count": null,
   "id": "1ae83c54",
   "metadata": {},
   "outputs": [],
   "source": []
  },
  {
   "cell_type": "code",
   "execution_count": null,
   "id": "dc00dd17",
   "metadata": {},
   "outputs": [],
   "source": []
  },
  {
   "cell_type": "code",
   "execution_count": null,
   "id": "94c577fa",
   "metadata": {},
   "outputs": [],
   "source": []
  },
  {
   "cell_type": "code",
   "execution_count": null,
   "id": "adccfffe",
   "metadata": {},
   "outputs": [],
   "source": []
  },
  {
   "cell_type": "code",
   "execution_count": null,
   "id": "0cf38c91",
   "metadata": {},
   "outputs": [],
   "source": []
  },
  {
   "cell_type": "code",
   "execution_count": null,
   "id": "7ba95a01",
   "metadata": {},
   "outputs": [],
   "source": []
  },
  {
   "cell_type": "code",
   "execution_count": null,
   "id": "9626aa2e",
   "metadata": {},
   "outputs": [],
   "source": []
  },
  {
   "cell_type": "code",
   "execution_count": null,
   "id": "4890e991",
   "metadata": {},
   "outputs": [],
   "source": []
  },
  {
   "cell_type": "code",
   "execution_count": null,
   "id": "3e1ef490",
   "metadata": {},
   "outputs": [],
   "source": []
  },
  {
   "cell_type": "code",
   "execution_count": null,
   "id": "6c4a36ab",
   "metadata": {},
   "outputs": [],
   "source": []
  }
 ],
 "metadata": {
  "kernelspec": {
   "display_name": "tek",
   "language": "python",
   "name": "tek"
  },
  "language_info": {
   "codemirror_mode": {
    "name": "ipython",
    "version": 3
   },
   "file_extension": ".py",
   "mimetype": "text/x-python",
   "name": "python",
   "nbconvert_exporter": "python",
   "pygments_lexer": "ipython3",
   "version": "3.8.13"
  }
 },
 "nbformat": 4,
 "nbformat_minor": 5
}
