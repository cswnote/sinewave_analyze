{
 "cells": [
  {
   "cell_type": "code",
   "execution_count": 1,
   "id": "6397e94f",
   "metadata": {},
   "outputs": [],
   "source": [
    "import math\n",
    "import os\n",
    "import openpyxl\n",
    "import platform\n",
    "import numpy as np\n",
    "import pandas as pd"
   ]
  },
  {
   "cell_type": "code",
   "execution_count": 2,
   "id": "2f470a7b",
   "metadata": {},
   "outputs": [],
   "source": [
    "if platform.platform()[:3].lower() == 'mac':\n",
    "    mac_m1 = True\n",
    "elif platform.platform()[:3].lower() == 'win':\n",
    "    mac_m1 = False\n",
    "    \n",
    "if mac_m1:\n",
    "    path = '/Users/rainyseason/winston/Workspace/python/Pycharm Project/sinewave_analyze/Evaluation/'\n",
    "    path_csv = path + 'tek_csv/'\n",
    "    path_excel = path + 'tek_excel/'\n",
    "    path_summary = path + 'summary/'\n",
    "    path_information = path + 'test information/'\n",
    "    path_kmon = path + 'kmon_csv'\n",
    "else:\n",
    "    path = 'D:/winston/OneDrive - (주)필드큐어/data_analyze/'\n",
    "    path_csv = path + 'tek_csv/'\n",
    "    path_excel = path + 'tek_excel/'\n",
    "    path_summary = path + 'summary/'\n",
    "    path_information = path + 'test information/'\n",
    "    path_kmon = path + 'kmon_csv/'\n",
    "    \n",
    "evaluation_control_file = 'eval_control.xlsx'"
   ]
  },
  {
   "cell_type": "code",
   "execution_count": 16,
   "id": "ceeff34a",
   "metadata": {},
   "outputs": [],
   "source": [
    "path_excel = '/Users/rainyseason/winston/Workspace/python/Pycharm Project/sinewave_analyze/Evaluation/tek_excel/'"
   ]
  },
  {
   "cell_type": "code",
   "execution_count": 17,
   "id": "fbe4f50f",
   "metadata": {},
   "outputs": [
    {
     "name": "stdout",
     "output_type": "stream",
     "text": [
      "(0, 'Ch3 Ch4')\n",
      "(1, 'tek0000 08Ch3xlsx')\n",
      "(2, 'tek00000 08Ch3xlsx')\n",
      "(3, 'tek00001 08Ch3xlsx')\n",
      "(4, 'tek00002 08Ch3xlsx')\n",
      "(5, 'tek00003 08Ch3xlsx')\n",
      "(6, 'tek00004 08Ch3xlsx')\n",
      "(7, 'tek00005 08Ch3xlsx')\n",
      "(8, 'tek00006 08Ch3xlsx')\n",
      "(9, 'tek00007 08Ch3xlsx')\n",
      "(10, 'tek00008 08Ch3xlsx')\n",
      "(11, 'tek00009 08Ch3xlsx')\n",
      "(12, 'tek0001 08Ch3xlsx')\n",
      "(13, 'tek00010 08Ch3xlsx')\n",
      "(14, 'tek00011 08Ch3xlsx')\n",
      "(15, 'tek00012 08Ch3xlsx')\n",
      "(16, 'tek00013 08Ch3xlsx')\n",
      "(17, 'tek00014 08Ch3xlsx')\n",
      "(18, 'tek00015 08Ch3xlsx')\n",
      "(19, 'tek00016 08Ch3xlsx')\n",
      "(20, 'tek00017 08Ch3xlsx')\n",
      "(21, 'tek00018 08Ch3xlsx')\n",
      "(22, 'tek00019 08Ch3xlsx')\n",
      "(23, 'tek00020 08Ch3xlsx')\n",
      "(24, 'tek00021 08Ch3xlsx')\n",
      "(25, 'tek00022 08Ch3xlsx')\n",
      "(26, 'tek00023 08Ch3xlsx')\n",
      "(27, 'tek00024 08Ch3xlsx')\n",
      "(28, 'tek00025 08Ch3xlsx')\n",
      "(29, 'tek00026 08Ch3xlsx')\n",
      "(30, 'tek00027 08Ch3xlsx')\n",
      "(31, 'tek00028 08Ch3xlsx')\n",
      "(32, 'tek00029 08Ch3xlsx')\n",
      "(33, 'tek00030 08Ch3xlsx')\n",
      "(34, 'tek00031 08Ch3xlsx')\n",
      "(35, 'tek00032 08Ch3xlsx')\n",
      "(36, 'tek00033 08Ch3xlsx')\n",
      "(37, 'tek00034 08Ch3xlsx')\n",
      "(38, 'tek00035 08Ch3xlsx')\n",
      "(39, 'tek00036 08Ch3xlsx')\n",
      "(40, 'tek00037 08Ch3xlsx')\n",
      "(41, 'tek00038 08Ch3xlsx')\n"
     ]
    }
   ],
   "source": [
    "files = os.listdir(path_excel)\n",
    "files = [file for file in files if '.DS' not in file and '~' not in file]\n",
    "files.sort()\n",
    "for file in enumerate(files):\n",
    "    print(file)"
   ]
  },
  {
   "cell_type": "code",
   "execution_count": 15,
   "id": "50c04768",
   "metadata": {},
   "outputs": [],
   "source": [
    "path_ch3 = path_excel\n",
    "path_ch4 = path"
   ]
  },
  {
   "cell_type": "code",
   "execution_count": null,
   "id": "4651ccef",
   "metadata": {},
   "outputs": [],
   "source": []
  },
  {
   "cell_type": "code",
   "execution_count": null,
   "id": "9b36a99a",
   "metadata": {},
   "outputs": [],
   "source": []
  },
  {
   "cell_type": "code",
   "execution_count": null,
   "id": "1ae83c54",
   "metadata": {},
   "outputs": [],
   "source": []
  },
  {
   "cell_type": "code",
   "execution_count": null,
   "id": "dc00dd17",
   "metadata": {},
   "outputs": [],
   "source": []
  },
  {
   "cell_type": "code",
   "execution_count": null,
   "id": "94c577fa",
   "metadata": {},
   "outputs": [],
   "source": []
  },
  {
   "cell_type": "code",
   "execution_count": null,
   "id": "adccfffe",
   "metadata": {},
   "outputs": [],
   "source": []
  },
  {
   "cell_type": "code",
   "execution_count": null,
   "id": "0cf38c91",
   "metadata": {},
   "outputs": [],
   "source": []
  },
  {
   "cell_type": "code",
   "execution_count": null,
   "id": "7ba95a01",
   "metadata": {},
   "outputs": [],
   "source": []
  },
  {
   "cell_type": "code",
   "execution_count": null,
   "id": "9626aa2e",
   "metadata": {},
   "outputs": [],
   "source": []
  },
  {
   "cell_type": "code",
   "execution_count": null,
   "id": "4890e991",
   "metadata": {},
   "outputs": [],
   "source": []
  },
  {
   "cell_type": "code",
   "execution_count": null,
   "id": "3e1ef490",
   "metadata": {},
   "outputs": [],
   "source": []
  },
  {
   "cell_type": "code",
   "execution_count": null,
   "id": "6c4a36ab",
   "metadata": {},
   "outputs": [],
   "source": []
  }
 ],
 "metadata": {
  "kernelspec": {
   "display_name": "tek",
   "language": "python",
   "name": "tek"
  },
  "language_info": {
   "codemirror_mode": {
    "name": "ipython",
    "version": 3
   },
   "file_extension": ".py",
   "mimetype": "text/x-python",
   "name": "python",
   "nbconvert_exporter": "python",
   "pygments_lexer": "ipython3",
   "version": "3.8.13"
  }
 },
 "nbformat": 4,
 "nbformat_minor": 5
}
