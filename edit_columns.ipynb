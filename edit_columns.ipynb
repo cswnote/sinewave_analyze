{
 "cells": [
  {
   "cell_type": "code",
   "execution_count": 1,
   "id": "7f0b667d",
   "metadata": {},
   "outputs": [],
   "source": [
    "import os\n",
    "import openpyxl\n",
    "import platform\n",
    "import pandas as pd"
   ]
  },
  {
   "cell_type": "code",
   "execution_count": 2,
   "id": "51bcf2a1",
   "metadata": {},
   "outputs": [],
   "source": [
    "if __name__ == '__main__':\n",
    "    if platform.platform()[:3].lower() == 'mac':\n",
    "        mac_m1 = True\n",
    "    elif platform.platform()[:3].lower() == 'win':\n",
    "        mac_m1 = False\n",
    "\n",
    "if mac_m1:\n",
    "    path = '/Users/rainyseason/winston/Workspace/python/Pycharm Project/sinewave_analyze/Evaluation/'\n",
    "    path_csv = path + 'tek_csv/'\n",
    "    path_excel = path + 'tek_excel/'\n",
    "    path_summary = path + 'summary/'\n",
    "    path_information = path + 'test information/'\n",
    "    path_kmon = path + 'kmon_csv'\n",
    "else:\n",
    "    path = 'D:/winston/OneDrive - (주)필드큐어/data_analyze/'\n",
    "    path_csv = path + 'tek_csv/'\n",
    "    path_excel = path + 'tek_excel/'\n",
    "    path_summary = path + 'summary/'\n",
    "    path_information = path + 'test information/'\n",
    "    path_kmon = path + 'kmon_csv/'\n",
    "\n",
    "evaluation_control_file = 'eval_control.xlsx'"
   ]
  },
  {
   "cell_type": "code",
   "execution_count": 26,
   "id": "8884adf0",
   "metadata": {},
   "outputs": [],
   "source": [
    "df_ctrl = pd.read_excel(path + evaluation_control_file, sheet_name='edit columns')\n",
    "df_sum = pd.read_excel(path_excel + 'summary.xlsx', sheet_name='with kmon')"
   ]
  },
  {
   "cell_type": "code",
   "execution_count": 27,
   "id": "c6f5ea92",
   "metadata": {
    "scrolled": true
   },
   "outputs": [],
   "source": [
    "remain_items = list(df_ctrl.iloc[:, 0])"
   ]
  },
  {
   "cell_type": "code",
   "execution_count": 28,
   "id": "86d1a3cf",
   "metadata": {},
   "outputs": [
    {
     "data": {
      "text/plain": [
       "['curr']"
      ]
     },
     "execution_count": 28,
     "metadata": {},
     "output_type": "execute_result"
    }
   ],
   "source": [
    "remain_items"
   ]
  },
  {
   "cell_type": "code",
   "execution_count": 29,
   "id": "2557b10c",
   "metadata": {},
   "outputs": [
    {
     "data": {
      "text/plain": [
       "['curr', 'irms']"
      ]
     },
     "execution_count": 29,
     "metadata": {},
     "output_type": "execute_result"
    }
   ],
   "source": [
    "for item in remain_items:\n",
    "    if 'curr' in item.lower():\n",
    "        remain_items.append('irms')\n",
    "remain_items"
   ]
  },
  {
   "cell_type": "code",
   "execution_count": 30,
   "id": "dd9a2614",
   "metadata": {},
   "outputs": [],
   "source": [
    "drop_list = list(df_sum.columns)"
   ]
  },
  {
   "cell_type": "code",
   "execution_count": 32,
   "id": "d5904141",
   "metadata": {},
   "outputs": [
    {
     "data": {
      "text/plain": [
       "['Imean[mA]',\n",
       " 'FFT V freq[MHz]',\n",
       " 'FFT V rms',\n",
       " 'FFT V dc abs',\n",
       " 'FFT I freq[MHz]',\n",
       " 'FFT I rms[mA]',\n",
       " 'FFT I dc abs[mA]',\n",
       " 'RF Volt Ch 1',\n",
       " 'RF Volt Ch 1 deviation',\n",
       " 'RF Volt Ch 2',\n",
       " 'RF Volt Ch 2 deviation',\n",
       " 'RF Volt Ch 3',\n",
       " 'RF Volt Ch 3 deviation',\n",
       " 'RF Volt Ch 4',\n",
       " 'RF Volt Ch 4 deviation',\n",
       " 'RF Curr Ch 1',\n",
       " 'RF Curr Ch 1 deviation',\n",
       " 'RF Curr Ch 2',\n",
       " 'RF Curr Ch 2 deviation',\n",
       " 'RF Curr Ch 3',\n",
       " 'RF Curr Ch 3 deviation',\n",
       " 'RF Curr Ch 4',\n",
       " 'RF Curr Ch 4 deviation',\n",
       " 'CP Pwm Ch 1',\n",
       " 'CP Pwm Ch 1 deviation',\n",
       " 'CP Pwm Ch 2',\n",
       " 'CP Pwm Ch 2 deviation',\n",
       " 'CP Pwm Ch 3',\n",
       " 'CP Pwm Ch 3 deviation',\n",
       " 'CP Pwm Ch 4',\n",
       " 'CP Pwm Ch 4 deviation',\n",
       " 'Loop Time 0.1 us',\n",
       " 'Loop Time 0.1 us deviation']"
      ]
     },
     "execution_count": 32,
     "metadata": {},
     "output_type": "execute_result"
    }
   ],
   "source": [
    "drop_list = drop_list[7:]\n",
    "drop_list"
   ]
  },
  {
   "cell_type": "code",
   "execution_count": 33,
   "id": "3ac524a0",
   "metadata": {},
   "outputs": [],
   "source": [
    "for item in remain_items:\n",
    "    for i in range(len(drop_list) - 1, -1 , -1):\n",
    "        if item in drop_list[i].lower().replace(' ', ''):\n",
    "            drop_list.remove(drop_list[i])"
   ]
  },
  {
   "cell_type": "code",
   "execution_count": 38,
   "id": "e9559edc",
   "metadata": {},
   "outputs": [
    {
     "ename": "SyntaxError",
     "evalue": "invalid syntax. Maybe you meant '==' or ':=' instead of '='? (3260646794.py, line 1)",
     "output_type": "error",
     "traceback": [
      "\u001b[0;36m  Input \u001b[0;32mIn [38]\u001b[0;36m\u001b[0m\n\u001b[0;31m    df_sum.drop[drop_list, axis=1]\u001b[0m\n\u001b[0m                           ^\u001b[0m\n\u001b[0;31mSyntaxError\u001b[0m\u001b[0;31m:\u001b[0m invalid syntax. Maybe you meant '==' or ':=' instead of '='?\n"
     ]
    }
   ],
   "source": [
    "df_sum.drop[drop_list, axis=1]\n",
    "df_sum"
   ]
  },
  {
   "cell_type": "code",
   "execution_count": null,
   "id": "f74394a0",
   "metadata": {},
   "outputs": [],
   "source": []
  },
  {
   "cell_type": "code",
   "execution_count": null,
   "id": "3cce4ecd",
   "metadata": {},
   "outputs": [],
   "source": []
  },
  {
   "cell_type": "code",
   "execution_count": null,
   "id": "ed20d76f",
   "metadata": {},
   "outputs": [],
   "source": []
  },
  {
   "cell_type": "code",
   "execution_count": null,
   "id": "8950db06",
   "metadata": {},
   "outputs": [],
   "source": []
  }
 ],
 "metadata": {
  "kernelspec": {
   "display_name": "test310",
   "language": "python",
   "name": "test310"
  },
  "language_info": {
   "codemirror_mode": {
    "name": "ipython",
    "version": 3
   },
   "file_extension": ".py",
   "mimetype": "text/x-python",
   "name": "python",
   "nbconvert_exporter": "python",
   "pygments_lexer": "ipython3",
   "version": "3.10.4"
  }
 },
 "nbformat": 4,
 "nbformat_minor": 5
}
