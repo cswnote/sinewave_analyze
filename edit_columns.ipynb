{
 "cells": [
  {
   "cell_type": "code",
   "execution_count": null,
   "id": "6397e94f",
   "metadata": {},
   "outputs": [],
   "source": [
    "import math\n",
    "import os\n",
    "import openpyxl\n",
    "import platform\n",
    "import numpy as np\n",
    "import pandas as pd"
   ]
  },
  {
   "cell_type": "code",
   "execution_count": null,
   "id": "2f470a7b",
   "metadata": {},
   "outputs": [],
   "source": [
    "if platform.platform()[:3].lower() == 'mac':\n",
    "    mac_m1 = True\n",
    "elif platform.platform()[:3].lower() == 'win':\n",
    "    mac_m1 = False\n",
    "    \n",
    "if mac_m1:\n",
    "    path = '/Users/rainyseason/winston/Workspace/python/Pycharm Project/sinewave_analyze/Evaluation/'\n",
    "    path_csv = path + 'tek_csv/'\n",
    "    path_excel = path + 'tek_excel/'\n",
    "    path_summary = path + 'summary/'\n",
    "    path_information = path + 'test information/'\n",
    "    path_kmon = path + 'kmon_csv'\n",
    "else:\n",
    "    path = 'D:/winston/OneDrive - (주)필드큐어/data_analyze/'\n",
    "    path_csv = path + 'tek_csv/'\n",
    "    path_excel = path + 'tek_excel/'\n",
    "    path_summary = path + 'summary/'\n",
    "    path_information = path + 'test information/'\n",
    "    path_kmon = path + 'kmon_csv/'\n",
    "    \n",
    "evaluation_control_file = 'eval_control.xlsx'"
   ]
  },
  {
   "cell_type": "code",
   "execution_count": null,
   "id": "8a879c33",
   "metadata": {},
   "outputs": [],
   "source": [
    "filename = 'summary.xlsx'"
   ]
  },
  {
   "cell_type": "code",
   "execution_count": null,
   "id": "70c40f74",
   "metadata": {},
   "outputs": [],
   "source": [
    "df = pd.ExcelFile(path_excel + 'summary - 복사본.xlsx')"
   ]
  },
  {
   "cell_type": "code",
   "execution_count": null,
   "id": "60e69913",
   "metadata": {},
   "outputs": [],
   "source": [
    "sheets = df.sheet_names"
   ]
  },
  {
   "cell_type": "code",
   "execution_count": null,
   "id": "e2db1a7c",
   "metadata": {},
   "outputs": [],
   "source": [
    "sheets = sheets[2:]"
   ]
  },
  {
   "cell_type": "code",
   "execution_count": null,
   "id": "1904088c",
   "metadata": {},
   "outputs": [],
   "source": [
    "len(sheets[-1])"
   ]
  },
  {
   "cell_type": "code",
   "execution_count": null,
   "id": "98580631",
   "metadata": {},
   "outputs": [],
   "source": [
    "sheets = [sheet for sheet in sheets if len(sheet) > 20]"
   ]
  }
 ],
 "metadata": {
  "kernelspec": {
   "display_name": "autotest",
   "language": "python",
   "name": "autotest"
  },
  "language_info": {
   "codemirror_mode": {
    "name": "ipython",
    "version": 3
   },
   "file_extension": ".py",
   "mimetype": "text/x-python",
   "name": "python",
   "nbconvert_exporter": "python",
   "pygments_lexer": "ipython3",
   "version": "3.8.0"
  }
 },
 "nbformat": 4,
 "nbformat_minor": 5
}
