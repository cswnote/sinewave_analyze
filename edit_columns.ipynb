{
 "cells": [
  {
   "cell_type": "code",
   "execution_count": 1,
   "id": "6397e94f",
   "metadata": {},
   "outputs": [],
   "source": [
    "import math\n",
    "import os\n",
    "import openpyxl\n",
    "import platform\n",
    "import numpy as np\n",
    "import pandas as pd"
   ]
  },
  {
   "cell_type": "code",
   "execution_count": 2,
   "id": "2f470a7b",
   "metadata": {},
   "outputs": [],
   "source": [
    "if platform.platform()[:3].lower() == 'mac':\n",
    "    mac_m1 = True\n",
    "elif platform.platform()[:3].lower() == 'win':\n",
    "    mac_m1 = False\n",
    "    \n",
    "if mac_m1:\n",
    "    path = '/Users/rainyseason/winston/Workspace/python/Pycharm Project/sinewave_analyze/Evaluation/'\n",
    "    path_csv = path + 'tek_csv/'\n",
    "    path_excel = path + 'tek_excel/'\n",
    "    path_summary = path + 'summary/'\n",
    "    path_information = path + 'test information/'\n",
    "    path_kmon = path + 'kmon_csv'\n",
    "else:\n",
    "    path = 'D:/data_analyze/'\n",
    "    path_csv = path + 'tek_csv/'\n",
    "    path_excel = path + 'tek_excel/'\n",
    "    path_summary = path + 'summary/'\n",
    "    path_information = path + 'test information/'\n",
    "    path_kmon = path + 'kmon_csv/'\n",
    "    \n",
    "evaluation_control_file = 'eval_control.xlsx'"
   ]
  },
  {
   "cell_type": "code",
   "execution_count": 60,
   "id": "c5b7dd94",
   "metadata": {},
   "outputs": [],
   "source": [
    "path_ch3 = path_excel + 'Ch3'\n",
    "path_ch4 = path_excel + 'Ch4'"
   ]
  },
  {
   "cell_type": "code",
   "execution_count": 61,
   "id": "9b36a99a",
   "metadata": {},
   "outputs": [],
   "source": [
    "files_ch3 = os.listdir(path_ch3)\n",
    "files_ch4 = os.listdir(path_ch4)\n",
    "files_ch3 = [file for file in files_ch3 if 'tek' in file]\n",
    "files_ch4 = [file for file in files_ch4 if 'tek' in file]"
   ]
  },
  {
   "cell_type": "code",
   "execution_count": 62,
   "id": "89ba4a8e",
   "metadata": {},
   "outputs": [],
   "source": [
    "files_ch3.sort()\n",
    "files_ch4.sort()"
   ]
  },
  {
   "cell_type": "code",
   "execution_count": 63,
   "id": "dc00dd17",
   "metadata": {},
   "outputs": [
    {
     "data": {
      "text/plain": [
       "(41, 40)"
      ]
     },
     "execution_count": 63,
     "metadata": {},
     "output_type": "execute_result"
    }
   ],
   "source": [
    "len(files_ch3), len(files_ch4)"
   ]
  },
  {
   "cell_type": "code",
   "execution_count": 64,
   "id": "94c577fa",
   "metadata": {},
   "outputs": [],
   "source": [
    "for i in range(len(files_ch3)):\n",
    "    files_ch3[i] = files_ch3[i][:-8]\n",
    "for i in range(len(files_ch4)):\n",
    "    files_ch4[i] = files_ch4[i][:-8]"
   ]
  },
  {
   "cell_type": "code",
   "execution_count": 65,
   "id": "adccfffe",
   "metadata": {},
   "outputs": [
    {
     "name": "stdout",
     "output_type": "stream",
     "text": [
      "tek0001 08\n"
     ]
    }
   ],
   "source": [
    "for file in files_ch3:\n",
    "    if file not in files_ch4:\n",
    "        print(file)"
   ]
  },
  {
   "cell_type": "code",
   "execution_count": 66,
   "id": "0cf38c91",
   "metadata": {},
   "outputs": [],
   "source": [
    "for file in files_ch4:\n",
    "    if file not in files_ch3:\n",
    "        print(file)"
   ]
  },
  {
   "cell_type": "code",
   "execution_count": null,
   "id": "7ba95a01",
   "metadata": {},
   "outputs": [],
   "source": []
  },
  {
   "cell_type": "code",
   "execution_count": null,
   "id": "9626aa2e",
   "metadata": {},
   "outputs": [],
   "source": []
  },
  {
   "cell_type": "code",
   "execution_count": null,
   "id": "4890e991",
   "metadata": {},
   "outputs": [],
   "source": []
  },
  {
   "cell_type": "code",
   "execution_count": null,
   "id": "3e1ef490",
   "metadata": {},
   "outputs": [],
   "source": []
  },
  {
   "cell_type": "code",
   "execution_count": null,
   "id": "6c4a36ab",
   "metadata": {},
   "outputs": [],
   "source": []
  }
 ],
 "metadata": {
  "kernelspec": {
   "display_name": "tek",
   "language": "python",
   "name": "tek"
  },
  "language_info": {
   "codemirror_mode": {
    "name": "ipython",
    "version": 3
   },
   "file_extension": ".py",
   "mimetype": "text/x-python",
   "name": "python",
   "nbconvert_exporter": "python",
   "pygments_lexer": "ipython3",
   "version": "3.8.13"
  }
 },
 "nbformat": 4,
 "nbformat_minor": 5
}
