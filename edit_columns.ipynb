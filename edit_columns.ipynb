{
 "cells": [
  {
   "cell_type": "code",
   "execution_count": 1,
   "id": "6397e94f",
   "metadata": {},
   "outputs": [],
   "source": [
    "import math\n",
    "import os\n",
    "import openpyxl\n",
    "import platform\n",
    "import numpy as np\n",
    "import pandas as pd"
   ]
  },
  {
   "cell_type": "code",
   "execution_count": 2,
   "id": "2f470a7b",
   "metadata": {},
   "outputs": [],
   "source": [
    "if platform.platform()[:3].lower() == 'mac':\n",
    "    mac_m1 = True\n",
    "elif platform.platform()[:3].lower() == 'win':\n",
    "    mac_m1 = False\n",
    "    \n",
    "if mac_m1:\n",
    "    path = '/Users/rainyseason/winston/Workspace/python/Pycharm Project/sinewave_analyze/Evaluation/'\n",
    "    path_csv = path + 'tek_csv/'\n",
    "    path_excel = path + 'tek_excel/'\n",
    "    path_summary = path + 'summary/'\n",
    "    path_information = path + 'test information/'\n",
    "    path_kmon = path + 'kmon_csv'\n",
    "else:\n",
    "    path = 'D:/data_analyze/'\n",
    "    path_csv = path + 'tek_csv/'\n",
    "    path_excel = path + 'tek_excel/'\n",
    "    path_summary = path + 'summary/'\n",
    "    path_information = path + 'test information/'\n",
    "    path_kmon = path + 'kmon_csv/'\n",
    "    \n",
    "evaluation_control_file = 'eval_control.xlsx'"
   ]
  },
  {
   "cell_type": "code",
   "execution_count": 4,
   "id": "fbe4f50f",
   "metadata": {
    "scrolled": true
   },
   "outputs": [
    {
     "name": "stdout",
     "output_type": "stream",
     "text": [
      "(0, 'Ch3 Ch4')\n",
      "(1, 'tek0000.xlsx')\n",
      "(2, 'tek00000.xlsx')\n",
      "(3, 'tek00001.xlsx')\n",
      "(4, 'tek00002.xlsx')\n",
      "(5, 'tek00003.xlsx')\n",
      "(6, 'tek00004.xlsx')\n",
      "(7, 'tek00005.xlsx')\n",
      "(8, 'tek00006.xlsx')\n",
      "(9, 'tek00007.xlsx')\n",
      "(10, 'tek00008.xlsx')\n",
      "(11, 'tek00009.xlsx')\n",
      "(12, 'tek0001.xlsx')\n",
      "(13, 'tek00010.xlsx')\n",
      "(14, 'tek00011.xlsx')\n",
      "(15, 'tek00012.xlsx')\n",
      "(16, 'tek00013.xlsx')\n",
      "(17, 'tek00014.xlsx')\n",
      "(18, 'tek00015.xlsx')\n",
      "(19, 'tek00016.xlsx')\n",
      "(20, 'tek00017.xlsx')\n",
      "(21, 'tek00018.xlsx')\n",
      "(22, 'tek00019.xlsx')\n",
      "(23, 'tek00020.xlsx')\n",
      "(24, 'tek00021.xlsx')\n",
      "(25, 'tek00022.xlsx')\n",
      "(26, 'tek00023.xlsx')\n",
      "(27, 'tek00024.xlsx')\n",
      "(28, 'tek00025.xlsx')\n",
      "(29, 'tek00026.xlsx')\n",
      "(30, 'tek00027.xlsx')\n",
      "(31, 'tek00028.xlsx')\n",
      "(32, 'tek00029.xlsx')\n",
      "(33, 'tek00030.xlsx')\n",
      "(34, 'tek00031.xlsx')\n",
      "(35, 'tek00032.xlsx')\n",
      "(36, 'tek00033.xlsx')\n",
      "(37, 'tek00034.xlsx')\n",
      "(38, 'tek00035.xlsx')\n",
      "(39, 'tek00036.xlsx')\n",
      "(40, 'tek00037.xlsx')\n",
      "(41, 'tek00038.xlsx')\n"
     ]
    }
   ],
   "source": [
    "files = os.listdir(path_excel)\n",
    "files = [file for file in files if '.DS' not in file and '~' not in file]\n",
    "files.sort()\n",
    "for file in enumerate(files):\n",
    "    print(file)"
   ]
  },
  {
   "cell_type": "code",
   "execution_count": 9,
   "id": "c7ef24d4",
   "metadata": {},
   "outputs": [],
   "source": [
    "del files[0]"
   ]
  },
  {
   "cell_type": "code",
   "execution_count": 11,
   "id": "2cfb9d0a",
   "metadata": {},
   "outputs": [
    {
     "name": "stdout",
     "output_type": "stream",
     "text": [
      "D:/data_analyze/tek_excel/tek0000.xlsx D:/data_analyze/tek_excel/tek00038 08Ch3xlsx\n",
      "D:/data_analyze/tek_excel/tek00000.xlsx D:/data_analyze/tek_excel/tek00038 08Ch3xlsx\n",
      "D:/data_analyze/tek_excel/tek00001.xlsx D:/data_analyze/tek_excel/tek00038 08Ch3xlsx\n",
      "D:/data_analyze/tek_excel/tek00002.xlsx D:/data_analyze/tek_excel/tek00038 08Ch3xlsx\n",
      "D:/data_analyze/tek_excel/tek00003.xlsx D:/data_analyze/tek_excel/tek00038 08Ch3xlsx\n",
      "D:/data_analyze/tek_excel/tek00004.xlsx D:/data_analyze/tek_excel/tek00038 08Ch3xlsx\n",
      "D:/data_analyze/tek_excel/tek00005.xlsx D:/data_analyze/tek_excel/tek00038 08Ch3xlsx\n",
      "D:/data_analyze/tek_excel/tek00006.xlsx D:/data_analyze/tek_excel/tek00038 08Ch3xlsx\n",
      "D:/data_analyze/tek_excel/tek00007.xlsx D:/data_analyze/tek_excel/tek00038 08Ch3xlsx\n",
      "D:/data_analyze/tek_excel/tek00008.xlsx D:/data_analyze/tek_excel/tek00038 08Ch3xlsx\n",
      "D:/data_analyze/tek_excel/tek00009.xlsx D:/data_analyze/tek_excel/tek00038 08Ch3xlsx\n",
      "D:/data_analyze/tek_excel/tek0001.xlsx D:/data_analyze/tek_excel/tek00038 08Ch3xlsx\n",
      "D:/data_analyze/tek_excel/tek00010.xlsx D:/data_analyze/tek_excel/tek00038 08Ch3xlsx\n",
      "D:/data_analyze/tek_excel/tek00011.xlsx D:/data_analyze/tek_excel/tek00038 08Ch3xlsx\n",
      "D:/data_analyze/tek_excel/tek00012.xlsx D:/data_analyze/tek_excel/tek00038 08Ch3xlsx\n",
      "D:/data_analyze/tek_excel/tek00013.xlsx D:/data_analyze/tek_excel/tek00038 08Ch3xlsx\n",
      "D:/data_analyze/tek_excel/tek00014.xlsx D:/data_analyze/tek_excel/tek00038 08Ch3xlsx\n",
      "D:/data_analyze/tek_excel/tek00015.xlsx D:/data_analyze/tek_excel/tek00038 08Ch3xlsx\n",
      "D:/data_analyze/tek_excel/tek00016.xlsx D:/data_analyze/tek_excel/tek00038 08Ch3xlsx\n",
      "D:/data_analyze/tek_excel/tek00017.xlsx D:/data_analyze/tek_excel/tek00038 08Ch3xlsx\n",
      "D:/data_analyze/tek_excel/tek00018.xlsx D:/data_analyze/tek_excel/tek00038 08Ch3xlsx\n",
      "D:/data_analyze/tek_excel/tek00019.xlsx D:/data_analyze/tek_excel/tek00038 08Ch3xlsx\n",
      "D:/data_analyze/tek_excel/tek00020.xlsx D:/data_analyze/tek_excel/tek00038 08Ch3xlsx\n",
      "D:/data_analyze/tek_excel/tek00021.xlsx D:/data_analyze/tek_excel/tek00038 08Ch3xlsx\n",
      "D:/data_analyze/tek_excel/tek00022.xlsx D:/data_analyze/tek_excel/tek00038 08Ch3xlsx\n",
      "D:/data_analyze/tek_excel/tek00023.xlsx D:/data_analyze/tek_excel/tek00038 08Ch3xlsx\n",
      "D:/data_analyze/tek_excel/tek00024.xlsx D:/data_analyze/tek_excel/tek00038 08Ch3xlsx\n",
      "D:/data_analyze/tek_excel/tek00025.xlsx D:/data_analyze/tek_excel/tek00038 08Ch3xlsx\n",
      "D:/data_analyze/tek_excel/tek00026.xlsx D:/data_analyze/tek_excel/tek00038 08Ch3xlsx\n",
      "D:/data_analyze/tek_excel/tek00027.xlsx D:/data_analyze/tek_excel/tek00038 08Ch3xlsx\n",
      "D:/data_analyze/tek_excel/tek00028.xlsx D:/data_analyze/tek_excel/tek00038 08Ch3xlsx\n",
      "D:/data_analyze/tek_excel/tek00029.xlsx D:/data_analyze/tek_excel/tek00038 08Ch3xlsx\n",
      "D:/data_analyze/tek_excel/tek00030.xlsx D:/data_analyze/tek_excel/tek00038 08Ch3xlsx\n",
      "D:/data_analyze/tek_excel/tek00031.xlsx D:/data_analyze/tek_excel/tek00038 08Ch3xlsx\n",
      "D:/data_analyze/tek_excel/tek00032.xlsx D:/data_analyze/tek_excel/tek00038 08Ch3xlsx\n",
      "D:/data_analyze/tek_excel/tek00033.xlsx D:/data_analyze/tek_excel/tek00038 08Ch3xlsx\n",
      "D:/data_analyze/tek_excel/tek00034.xlsx D:/data_analyze/tek_excel/tek00038 08Ch3xlsx\n",
      "D:/data_analyze/tek_excel/tek00035.xlsx D:/data_analyze/tek_excel/tek00038 08Ch3xlsx\n",
      "D:/data_analyze/tek_excel/tek00036.xlsx D:/data_analyze/tek_excel/tek00038 08Ch3xlsx\n",
      "D:/data_analyze/tek_excel/tek00037.xlsx D:/data_analyze/tek_excel/tek00038 08Ch3xlsx\n",
      "D:/data_analyze/tek_excel/tek00038.xlsx D:/data_analyze/tek_excel/tek00038 08Ch3xlsx\n"
     ]
    }
   ],
   "source": [
    "for file in files:\n",
    "    src = path_excel + file\n",
    "    name = file.split('.')[0]\n",
    "    extension = file[-5:]\n",
    "    print(src, dst)"
   ]
  },
  {
   "cell_type": "code",
   "execution_count": 18,
   "id": "50c04768",
   "metadata": {},
   "outputs": [],
   "source": [
    "path_ch3 = path_excel\n",
    "path_ch4 = path + 'Ch3 Ch4/'"
   ]
  },
  {
   "cell_type": "code",
   "execution_count": 8,
   "id": "4651ccef",
   "metadata": {},
   "outputs": [
    {
     "data": {
      "text/plain": [
       "'Ch3 Ch4'"
      ]
     },
     "execution_count": 8,
     "metadata": {},
     "output_type": "execute_result"
    }
   ],
   "source": [
    "file"
   ]
  },
  {
   "cell_type": "code",
   "execution_count": null,
   "id": "9b36a99a",
   "metadata": {},
   "outputs": [],
   "source": []
  },
  {
   "cell_type": "code",
   "execution_count": null,
   "id": "1ae83c54",
   "metadata": {},
   "outputs": [],
   "source": []
  },
  {
   "cell_type": "code",
   "execution_count": null,
   "id": "dc00dd17",
   "metadata": {},
   "outputs": [],
   "source": []
  },
  {
   "cell_type": "code",
   "execution_count": null,
   "id": "94c577fa",
   "metadata": {},
   "outputs": [],
   "source": []
  },
  {
   "cell_type": "code",
   "execution_count": null,
   "id": "adccfffe",
   "metadata": {},
   "outputs": [],
   "source": []
  },
  {
   "cell_type": "code",
   "execution_count": null,
   "id": "0cf38c91",
   "metadata": {},
   "outputs": [],
   "source": []
  },
  {
   "cell_type": "code",
   "execution_count": null,
   "id": "7ba95a01",
   "metadata": {},
   "outputs": [],
   "source": []
  },
  {
   "cell_type": "code",
   "execution_count": null,
   "id": "9626aa2e",
   "metadata": {},
   "outputs": [],
   "source": []
  },
  {
   "cell_type": "code",
   "execution_count": null,
   "id": "4890e991",
   "metadata": {},
   "outputs": [],
   "source": []
  },
  {
   "cell_type": "code",
   "execution_count": null,
   "id": "3e1ef490",
   "metadata": {},
   "outputs": [],
   "source": []
  },
  {
   "cell_type": "code",
   "execution_count": null,
   "id": "6c4a36ab",
   "metadata": {},
   "outputs": [],
   "source": []
  }
 ],
 "metadata": {
  "kernelspec": {
   "display_name": "autotest",
   "language": "python",
   "name": "autotest"
  },
  "language_info": {
   "codemirror_mode": {
    "name": "ipython",
    "version": 3
   },
   "file_extension": ".py",
   "mimetype": "text/x-python",
   "name": "python",
   "nbconvert_exporter": "python",
   "pygments_lexer": "ipython3",
   "version": "3.9.7"
  }
 },
 "nbformat": 4,
 "nbformat_minor": 5
}
