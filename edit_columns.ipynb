{
 "cells": [
  {
   "cell_type": "code",
   "execution_count": 1,
   "id": "6397e94f",
   "metadata": {},
   "outputs": [],
   "source": [
    "import math\n",
    "import os\n",
    "import openpyxl\n",
    "import platform\n",
    "import numpy as np\n",
    "import pandas as pd\n",
    "\n",
    "if platform.platform()[:3].lower() == 'mac':\n",
    "    mac_m1 = True\n",
    "elif platform.platform()[:3].lower() == 'win':\n",
    "    mac_m1 = False\n",
    "    \n",
    "if mac_m1:\n",
    "    path = '/Users/rainyseason/winston/Workspace/python/Pycharm Project/sinewave_analyze/Evaluation/'\n",
    "    path_csv = path + 'tek_csv/'\n",
    "    path_excel = path + 'tek_excel/'\n",
    "    path_summary = path + 'summary/'\n",
    "    path_information = path + 'test information/'\n",
    "    path_kmon = path + 'kmon_csv'\n",
    "else:\n",
    "    path = 'D:/data_analyze/'\n",
    "    path_csv = path + 'tek_csv/'\n",
    "    path_excel = path + 'tek_excel/'\n",
    "    path_summary = path + 'summary/'\n",
    "    path_information = path + 'test information/'\n",
    "    path_kmon = path + 'kmon_csv/'\n",
    "    \n",
    "evaluation_control_file = 'eval_control.xlsx'"
   ]
  },
  {
   "cell_type": "code",
   "execution_count": 3,
   "id": "2f470a7b",
   "metadata": {},
   "outputs": [
    {
     "data": {
      "text/plain": [
       "['summary 08Ch3.xlsx', 'summary 08Ch4.xlsx', 'summary.xlsx']"
      ]
     },
     "execution_count": 3,
     "metadata": {},
     "output_type": "execute_result"
    }
   ],
   "source": [
    "files = os.listdir(path_summary)\n",
    "files = [file for file in files if 'summary' in file and '~' not in file ]\n",
    "files.sort()\n",
    "files"
   ]
  },
  {
   "cell_type": "code",
   "execution_count": null,
   "id": "bac99a84",
   "metadata": {
    "scrolled": true
   },
   "outputs": [],
   "source": [
    "sheets = pd.ExcelFile(path_excel + files[-1]).sheet_names\n",
    "print(sheets)\n",
    "df = pd.read_excel(path_excel + files[-1], sheet_name=sheets[-1]) \n",
    "df.drop([0, 11], axis=0, inplace=True)\n",
    "df.reset_index(inplace=True)\n",
    "df.drop(['index'], axis=1, inplace=True)\n",
    "df"
   ]
  },
  {
   "cell_type": "code",
   "execution_count": null,
   "id": "5b9bed36",
   "metadata": {},
   "outputs": [],
   "source": [
    "sheets = pd.ExcelFile(path_excel + files[1]).sheet_names\n",
    "print(sheets)\n",
    "df_ch3 = pd.read_excel(path_excel + files[0], sheet_name=sheets[-1]) \n",
    "df_ch4 = pd.read_excel(path_excel + files[1], sheet_name=sheets[-1]) \n",
    "\n",
    "df_phantom = df.iloc[:13, :]\n",
    "df_R_non_inter = df.iloc[13:26, :]\n",
    "df_R = df.iloc[26:, :]\n",
    "\n",
    "df_R.reset_index(inplace=True)\n",
    "df_R = df_R.drop(['index'], axis=1)\n",
    "df_R_non_inter.reset_index(inplace=True)\n",
    "df_R_non_inter = df_R_non_inter.drop(['index'], axis=1)"
   ]
  },
  {
   "cell_type": "code",
   "execution_count": null,
   "id": "36167a3c",
   "metadata": {},
   "outputs": [],
   "source": [
    "df_phantom = df.iloc[:13, :]\n",
    "df_R_non_inter = df.iloc[13:26, :]\n",
    "df_R = df.iloc[26:, :]"
   ]
  },
  {
   "cell_type": "code",
   "execution_count": null,
   "id": "8bb24751",
   "metadata": {
    "scrolled": true
   },
   "outputs": [],
   "source": [
    "df_R.reset_index(inplace=True)\n",
    "df_R = df_R.drop(['index'], axis=1)\n",
    "df_R_non_inter.reset_index(inplace=True)\n",
    "df_R_non_inter = df_R_non_inter.drop(['index'], axis=1)"
   ]
  },
  {
   "cell_type": "code",
   "execution_count": null,
   "id": "13377275",
   "metadata": {},
   "outputs": [],
   "source": [
    "for i in range(len(df_R_non_inter)):\n",
    "    resistor = df_R_non_inter.at[i, 'Vp_ch3'] / math.sqrt(2) / (df_R_non_inter.at[i, 'Irms_ch3'] * 10**-3)\n",
    "    if np.isnan(resistor):\n",
    "        print(\"{} = {} / {}\".format(resistor, df_R_non_inter.at[i, 'Vp_ch3'] / math.sqrt(2), df_R_non_inter.at[i, 'Irms_ch3'] * 10**-3))\n",
    "    else:\n",
    "        print(\"{:.2f} = {:.2f} / {:.2f}   Ch3 {:6.1f}mA Ch4 {:6.1f}mA\".format(resistor, df_R_non_inter.at[i, 'Vp_ch3'] / math.sqrt(2), df_R_non_inter.at[i, 'Irms_ch3'] * 10**-3, df_R_non_inter.at[i, 'Irms_ch3'], df_R_non_inter.at[i, 'Irms_ch4']))"
   ]
  },
  {
   "cell_type": "code",
   "execution_count": null,
   "id": "67aaffd7",
   "metadata": {
    "scrolled": true
   },
   "outputs": [],
   "source": [
    "for i in range(len(df_R)):\n",
    "    resistor = df_R.at[i, 'Vp_ch3'] / math.sqrt(2) / (df_R.at[i, 'Irms_ch3'] * 10**-3)\n",
    "    if np.isnan(resistor):\n",
    "        print(\"{} = {} / {}\".format(resistor, df_R.at[i, 'Vp_ch3'] / math.sqrt(2), df_R.at[i, 'Irms_ch3'] * 10**-3))\n",
    "    else:\n",
    "        print(\"{:8.2f} = {:05.2f} / {:04.2f}   Ch3 {:6.1f}mA Ch4 {:6.1f}mA\".format(resistor, df_R.at[i, 'Vp_ch3'] / math.sqrt(2), df_R.at[i, 'Irms_ch3'] * 10**-3, df_R.at[i, 'Irms_ch3'], df_R.at[i, 'Irms_ch4']))"
   ]
  },
  {
   "cell_type": "code",
   "execution_count": null,
   "id": "39e42f59",
   "metadata": {},
   "outputs": [],
   "source": [
    "for i in range(len(df_phantom)):\n",
    "    resistor = df_phantom.at[i, 'Vp_ch3'] / math.sqrt(2) / (df_phantom.at[i, 'Irms_ch3'] * 10**-3)\n",
    "    if np.isnan(resistor):\n",
    "        print(\"{} = {} / {}\".format(resistor, df_phantom.at[i, 'Vp_ch3'] / math.sqrt(2), df_phantom.at[i, 'Irms_ch3'] * 10**-3))\n",
    "    else:\n",
    "        print(\"{:6.2f} = {:5.2f} / {:4.2f}   Ch3 {:6.1f}mA Ch4 {:6.1f}mA\".format(resistor, df_phantom.at[i, 'Vp_ch3'] / math.sqrt(2), df_phantom.at[i, 'Irms_ch3'] * 10**-3, df_phantom.at[i, 'Irms_ch3'], df_phantom.at[i, 'Irms_ch4']))"
   ]
  },
  {
   "cell_type": "code",
   "execution_count": null,
   "id": "4c969fd0",
   "metadata": {
    "scrolled": true
   },
   "outputs": [],
   "source": [
    "for i in range(len(df_R)):\n",
    "    print(\"{:4.0f} {:4.0f} || {:3.0f} {:4.0f}\".format(df_R.at[i, 'Irms_ch3'], df_R.at[i, 'Irms_ch4'], df_phantom.at[i, 'Irms_ch3'], df_phantom.at[i, 'Irms_ch4']))"
   ]
  },
  {
   "cell_type": "code",
   "execution_count": null,
   "id": "d3f3d208",
   "metadata": {
    "scrolled": true
   },
   "outputs": [],
   "source": [
    "for i in range(len(df_phantom)):\n",
    "    print(\"{:4.0f} {:4.0f} || {:3.0f} {:4.0f}\".format(df_R.at[i, 'Irms_ch3'], df_R.at[i, 'Irms_ch4'], df_R.at[i, 'PWM_ch3'], df_R.at[i, 'PWM_ch4'], df_phantom.at[i, 'Irms_ch3'], df_phantom.at[i, 'Irms_ch4']))"
   ]
  },
  {
   "cell_type": "markdown",
   "id": "cee6641f",
   "metadata": {},
   "source": [
    "위 두 결과를 보면 동일 전류밸런스가 깨지면 전류가 높은 쪽은 낮은 PWM으로 고전류, 전류가 낮은 쪽은 보다 높은 PWM으로 동작함\n",
    "이는 저전류쪽에서 고전류쪽으로 인입이되는 듯\n",
    "추가 확인 사항은 전류프루브를 V+에서도 동시확인 필요\n",
    "R model은 Imuc 상에서는 전류프루브와 다르고 phantom model은 전류프루브와 비슷한듯\n"
   ]
  },
  {
   "cell_type": "code",
   "execution_count": null,
   "id": "4a797b65",
   "metadata": {},
   "outputs": [],
   "source": []
  },
  {
   "cell_type": "code",
   "execution_count": null,
   "id": "f496732b",
   "metadata": {},
   "outputs": [],
   "source": []
  },
  {
   "cell_type": "code",
   "execution_count": null,
   "id": "bbc090f2",
   "metadata": {},
   "outputs": [],
   "source": []
  },
  {
   "cell_type": "code",
   "execution_count": null,
   "id": "da364299",
   "metadata": {},
   "outputs": [],
   "source": []
  },
  {
   "cell_type": "code",
   "execution_count": null,
   "id": "d8e7c1f2",
   "metadata": {},
   "outputs": [],
   "source": []
  },
  {
   "cell_type": "code",
   "execution_count": null,
   "id": "40fc66f1",
   "metadata": {},
   "outputs": [],
   "source": []
  },
  {
   "cell_type": "code",
   "execution_count": null,
   "id": "74970867",
   "metadata": {},
   "outputs": [],
   "source": []
  },
  {
   "cell_type": "code",
   "execution_count": null,
   "id": "538e1aa7",
   "metadata": {},
   "outputs": [],
   "source": []
  },
  {
   "cell_type": "code",
   "execution_count": null,
   "id": "dfc9dbfc",
   "metadata": {},
   "outputs": [],
   "source": []
  },
  {
   "cell_type": "code",
   "execution_count": null,
   "id": "6908bf87",
   "metadata": {},
   "outputs": [],
   "source": []
  },
  {
   "cell_type": "code",
   "execution_count": null,
   "id": "2bfe4686",
   "metadata": {},
   "outputs": [],
   "source": []
  },
  {
   "cell_type": "code",
   "execution_count": null,
   "id": "938ad422",
   "metadata": {},
   "outputs": [],
   "source": []
  },
  {
   "cell_type": "code",
   "execution_count": null,
   "id": "8a8acdde",
   "metadata": {},
   "outputs": [],
   "source": []
  },
  {
   "cell_type": "code",
   "execution_count": null,
   "id": "cea0aae4",
   "metadata": {},
   "outputs": [],
   "source": []
  },
  {
   "cell_type": "code",
   "execution_count": null,
   "id": "9242482a",
   "metadata": {},
   "outputs": [],
   "source": []
  },
  {
   "cell_type": "code",
   "execution_count": null,
   "id": "7e73f04f",
   "metadata": {},
   "outputs": [],
   "source": []
  },
  {
   "cell_type": "code",
   "execution_count": null,
   "id": "18e0309f",
   "metadata": {},
   "outputs": [],
   "source": []
  },
  {
   "cell_type": "code",
   "execution_count": null,
   "id": "446bb6b9",
   "metadata": {},
   "outputs": [],
   "source": []
  },
  {
   "cell_type": "code",
   "execution_count": null,
   "id": "2c76b3af",
   "metadata": {},
   "outputs": [],
   "source": []
  },
  {
   "cell_type": "code",
   "execution_count": null,
   "id": "60484bc8",
   "metadata": {},
   "outputs": [],
   "source": []
  },
  {
   "cell_type": "code",
   "execution_count": null,
   "id": "f59420cc",
   "metadata": {},
   "outputs": [],
   "source": []
  }
 ],
 "metadata": {
  "kernelspec": {
   "display_name": "autotest",
   "language": "python",
   "name": "autotest"
  },
  "language_info": {
   "codemirror_mode": {
    "name": "ipython",
    "version": 3
   },
   "file_extension": ".py",
   "mimetype": "text/x-python",
   "name": "python",
   "nbconvert_exporter": "python",
   "pygments_lexer": "ipython3",
   "version": "3.9.7"
  }
 },
 "nbformat": 4,
 "nbformat_minor": 5
}
