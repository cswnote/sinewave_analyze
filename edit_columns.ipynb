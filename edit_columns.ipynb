{
 "cells": [
  {
   "cell_type": "code",
   "execution_count": null,
   "id": "6397e94f",
   "metadata": {},
   "outputs": [],
   "source": [
    "import math\n",
    "import os\n",
    "import openpyxl\n",
    "import platform\n",
    "import numpy as np\n",
    "import pandas as pd"
   ]
  },
  {
   "cell_type": "code",
   "execution_count": null,
   "id": "2f470a7b",
   "metadata": {},
   "outputs": [],
   "source": [
    "if platform.platform()[:3].lower() == 'mac':\n",
    "    mac_m1 = True\n",
    "elif platform.platform()[:3].lower() == 'win':\n",
    "    mac_m1 = False\n",
    "    \n",
    "if mac_m1:\n",
    "    path = '/Users/rainyseason/winston/Workspace/python/Pycharm Project/sinewave_analyze/Evaluation/'\n",
    "    path_csv = path + 'tek_csv/'\n",
    "    path_excel = path + 'tek_excel/'\n",
    "    path_summary = path + 'summary/'\n",
    "    path_information = path + 'test information/'\n",
    "    path_kmon = path + 'kmon_csv'\n",
    "else:\n",
    "    path = 'D:/winston/OneDrive - (주)필드큐어/data_analyze/'\n",
    "    path_csv = path + 'tek_csv/'\n",
    "    path_excel = path + 'tek_excel/'\n",
    "    path_summary = path + 'summary/'\n",
    "    path_information = path + 'test information/'\n",
    "    path_kmon = path + 'kmon_csv/'\n",
    "    \n",
    "evaluation_control_file = 'eval_control.xlsx'"
   ]
  },
  {
   "cell_type": "code",
   "execution_count": null,
   "id": "8a879c33",
   "metadata": {},
   "outputs": [],
   "source": [
    "filename = 'summary.xlsx'"
   ]
  },
  {
   "cell_type": "code",
   "execution_count": null,
   "id": "fda14bba",
   "metadata": {},
   "outputs": [],
   "source": [
    "df = pd.ExcelFile(path_excel + 'summary - 복사본.xlsx')"
   ]
  },
  {
   "cell_type": "code",
   "execution_count": null,
   "id": "f4b7eed3",
   "metadata": {},
   "outputs": [],
   "source": []
  },
  {
   "cell_type": "code",
   "execution_count": null,
   "id": "f069b7cb",
   "metadata": {},
   "outputs": [],
   "source": []
  },
  {
   "cell_type": "code",
   "execution_count": 28,
   "id": "756bd59f",
   "metadata": {},
   "outputs": [],
   "source": [
    "import math\n",
    "ratio = 2.5\n",
    "resistor = 292.2"
   ]
  },
  {
   "cell_type": "code",
   "execution_count": 33,
   "id": "71408418",
   "metadata": {},
   "outputs": [
    {
     "name": "stdout",
     "output_type": "stream",
     "text": [
      "0.41323320292541843 0.7078281430254014\n",
      "0.8264664058508369 0.9996191997029659\n",
      "1.239699608776255 1.3360169150748742\n",
      "1.6529328117016737 1.7040627673683535\n",
      "2.066166014627092 2.09229424802955\n",
      "2.47939921755251 2.4923529309445227\n",
      "2.892632420477929 2.8989031187117376\n",
      "3.3058656234033474 3.3088445240473248\n",
      "3.719098826328766 3.7204928738916507\n",
      "4.132332029254184 4.132976550908118\n",
      "4.545565232179602 4.54586027707943\n",
      "4.95879843510502 4.958932389717739\n",
      "5.372031638030439 5.372092034337924\n",
      "5.785264840955858 5.785291911044477\n",
      "6.198498043881276 6.19851011504587\n",
      "6.611731246806695 6.611736605696895\n",
      "7.0249644497321135 7.024966819474022\n",
      "7.438197652657532 7.4381986969496605\n",
      "7.85143085558295 7.851431314358772\n",
      "8.264664058508368 8.264664259498325\n",
      "8.677897261433786 8.677897349267473\n",
      "9.091130464359203 9.091130502655957\n",
      "9.504363667284622 9.504363683948059\n",
      "9.91759687021004 9.91759687744682\n",
      "10.33083007313546 10.330830076272871\n",
      "10.744063276060878 10.744063277418887\n",
      "11.157296478986297 11.157296479573231\n",
      "11.570529681911715 11.570529682165043\n",
      "11.983762884837134 11.983762884946334\n",
      "12.396996087762552 12.396996087809569\n",
      "12.81022929068797 12.81022929070819\n",
      "13.22346249361339 13.223462493622078\n",
      "13.636695696538807 13.636695696542537\n",
      "14.049928899464227 14.049928899465828\n",
      "14.463162102389644 14.463162102390331\n",
      "14.876395305315064 14.876395305315357\n",
      "15.28962850824048 15.289628508240606\n",
      "15.7028617111659 15.702861711165955\n",
      "16.116094914091317 16.11609491409134\n",
      "16.529328117016735 16.529328117016746\n",
      "16.942561319942154 16.942561319942158\n",
      "17.355794522867573 17.355794522867576\n",
      "17.76902772579299 17.76902772579299\n",
      "18.182260928718406 18.182260928718406\n",
      "18.595494131643825 18.595494131643825\n",
      "19.008727334569244 19.008727334569244\n",
      "19.421960537494666 19.421960537494666\n",
      "19.83519374042008 19.83519374042008\n",
      "20.248426943345503 20.248426943345503\n",
      "20.66166014627092 20.66166014627092\n",
      "21.07489334919634 21.07489334919634\n",
      "21.488126552121756 21.488126552121756\n",
      "21.901359755047174 21.901359755047174\n",
      "22.314592957972593 22.314592957972593\n",
      "22.727826160898008 22.727826160898008\n",
      "23.14105936382343 23.14105936382343\n",
      "23.55429256674885 23.55429256674885\n",
      "23.967525769674268 23.967525769674268\n",
      "24.380758972599683 24.380758972599683\n",
      "24.793992175525105 24.793992175525105\n",
      "25.20722537845052 25.20722537845052\n",
      "25.62045858137594 25.62045858137594\n",
      "26.033691784301357 26.033691784301357\n",
      "26.44692498722678 26.44692498722678\n",
      "26.860158190152195 26.860158190152195\n",
      "27.273391393077613 27.273391393077613\n",
      "27.686624596003035 27.686624596003035\n",
      "28.099857798928454 28.099857798928454\n",
      "28.51309100185387 28.51309100185387\n",
      "28.926324204779288 28.926324204779288\n",
      "29.33955740770471 29.33955740770471\n",
      "29.75279061063013 29.75279061063013\n",
      "30.16602381355554 30.16602381355554\n",
      "30.57925701648096 30.57925701648096\n",
      "30.992490219406378 30.992490219406378\n",
      "31.4057234223318 31.4057234223318\n",
      "31.818956625257215 31.818956625257215\n",
      "32.232189828182634 32.232189828182634\n",
      "32.64542303110805 32.64542303110805\n",
      "33.05865623403347 33.05865623403347\n",
      "33.47188943695889 33.47188943695889\n",
      "33.88512263988431 33.88512263988431\n",
      "34.29835584280973 34.29835584280973\n",
      "34.711589045735145 34.711589045735145\n",
      "35.124822248660564 35.124822248660564\n",
      "35.53805545158598 35.53805545158598\n",
      "35.9512886545114 35.9512886545114\n",
      "36.36452185743681 36.36452185743681\n",
      "36.77775506036223 36.77775506036223\n",
      "37.19098826328765 37.19098826328765\n",
      "37.604221466213076 37.604221466213076\n",
      "38.01745466913849 38.01745466913849\n",
      "38.430687872063906 38.430687872063906\n",
      "38.84392107498933 38.84392107498933\n",
      "39.25715427791475 39.25715427791475\n",
      "39.67038748084016 39.67038748084016\n",
      "40.08362068376558 40.08362068376558\n",
      "40.49685388669101 40.49685388669101\n",
      "40.910087089616425 40.910087089616425\n"
     ]
    }
   ],
   "source": [
    "for I in range(1, 100):\n",
    "    V = I * 0.001 * resistor * math.sqrt(2)\n",
    "    weight = 1 / (1 - (1 / (1 * math.exp(I * resistor * 0.003))))\n",
    "    div = weight * V\n",
    "    print(V, div)"
   ]
  },
  {
   "cell_type": "code",
   "execution_count": 9,
   "id": "90734fdc",
   "metadata": {},
   "outputs": [
    {
     "ename": "NameError",
     "evalue": "name 'math' is not defined",
     "output_type": "error",
     "traceback": [
      "\u001b[0;31m---------------------------------------------------------------------------\u001b[0m",
      "\u001b[0;31mNameError\u001b[0m                                 Traceback (most recent call last)",
      "Input \u001b[0;32mIn [9]\u001b[0m, in \u001b[0;36m<cell line: 1>\u001b[0;34m()\u001b[0m\n\u001b[0;32m----> 1\u001b[0m div \u001b[38;5;241m=\u001b[39m V \u001b[38;5;241m*\u001b[39m (\u001b[38;5;241m1\u001b[39m \u001b[38;5;241m+\u001b[39m \u001b[38;5;241m1\u001b[39m \u001b[38;5;241m/\u001b[39m \u001b[43mmath\u001b[49m\u001b[38;5;241m.\u001b[39mexp(V \u001b[38;5;241m*\u001b[39m \u001b[38;5;241m0.5\u001b[39m) \u001b[38;5;241m/\u001b[39m \u001b[38;5;241m0.4\u001b[39m) \u001b[38;5;241m*\u001b[39m ratio \u001b[38;5;241m/\u001b[39m \u001b[38;5;241m5\u001b[39m\n",
      "\u001b[0;31mNameError\u001b[0m: name 'math' is not defined"
     ]
    }
   ],
   "source": [
    "div = V * (1 + 1 / math.exp(V * 0.5) / 0.4) * ratio / 5"
   ]
  },
  {
   "cell_type": "code",
   "execution_count": null,
   "id": "64957898",
   "metadata": {},
   "outputs": [],
   "source": []
  },
  {
   "cell_type": "code",
   "execution_count": null,
   "id": "fef18c3c",
   "metadata": {},
   "outputs": [],
   "source": []
  },
  {
   "cell_type": "code",
   "execution_count": null,
   "id": "51cbf743",
   "metadata": {},
   "outputs": [],
   "source": []
  },
  {
   "cell_type": "code",
   "execution_count": null,
   "id": "fb2b1afd",
   "metadata": {},
   "outputs": [],
   "source": []
  },
  {
   "cell_type": "code",
   "execution_count": null,
   "id": "c0ebb9a1",
   "metadata": {},
   "outputs": [],
   "source": []
  },
  {
   "cell_type": "code",
   "execution_count": null,
   "id": "1ec487e2",
   "metadata": {},
   "outputs": [],
   "source": []
  },
  {
   "cell_type": "code",
   "execution_count": null,
   "id": "a5bf39fd",
   "metadata": {},
   "outputs": [],
   "source": []
  },
  {
   "cell_type": "code",
   "execution_count": null,
   "id": "24608184",
   "metadata": {},
   "outputs": [],
   "source": []
  },
  {
   "cell_type": "code",
   "execution_count": null,
   "id": "5ead8408",
   "metadata": {},
   "outputs": [],
   "source": []
  },
  {
   "cell_type": "code",
   "execution_count": null,
   "id": "42041799",
   "metadata": {},
   "outputs": [],
   "source": []
  },
  {
   "cell_type": "code",
   "execution_count": null,
   "id": "68ad7c8f",
   "metadata": {},
   "outputs": [],
   "source": []
  },
  {
   "cell_type": "code",
   "execution_count": null,
   "id": "0c0b63a8",
   "metadata": {},
   "outputs": [],
   "source": []
  }
 ],
 "metadata": {
  "kernelspec": {
   "display_name": "tek",
   "language": "python",
   "name": "tek"
  },
  "language_info": {
   "codemirror_mode": {
    "name": "ipython",
    "version": 3
   },
   "file_extension": ".py",
   "mimetype": "text/x-python",
   "name": "python",
   "nbconvert_exporter": "python",
   "pygments_lexer": "ipython3",
   "version": "3.8.13"
  }
 },
 "nbformat": 4,
 "nbformat_minor": 5
}
