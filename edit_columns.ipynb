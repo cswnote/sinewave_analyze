{
 "cells": [
  {
   "cell_type": "code",
   "execution_count": 1,
   "id": "6397e94f",
   "metadata": {},
   "outputs": [],
   "source": [
    "import math\n",
    "import os\n",
    "import openpyxl\n",
    "import platform\n",
    "import numpy as np\n",
    "import pandas as pd\n",
    "import matplotlib.pyplot as plt\n",
    "\n",
    "if platform.platform()[:3].lower() == 'mac':\n",
    "    mac_m1 = True\n",
    "elif platform.platform()[:3].lower() == 'win':\n",
    "    mac_m1 = False\n",
    "    \n",
    "if mac_m1:\n",
    "    path = '/Users/rainyseason/winston/Workspace/python/Pycharm Project/sinewave_analyze/Evaluation/'\n",
    "    path_csv = path + 'tek_csv/'\n",
    "    path_excel = path + 'tek_excel/'\n",
    "    path_summary = path + 'summary/'\n",
    "    path_information = path + 'test information/'\n",
    "    path_kmon = path + 'kmon_csv'\n",
    "else:\n",
    "    path = 'D:/data_analyze/'\n",
    "    path_csv = path + 'tek_csv/'\n",
    "    path_excel = path + 'tek_excel/'\n",
    "    path_summary = path + 'summary/'\n",
    "    path_information = path + 'test information/'\n",
    "    path_kmon = path + 'kmon_csv/'\n",
    "    \n",
    "evaluation_control_file = 'eval_control.xlsx'"
   ]
  },
  {
   "cell_type": "code",
   "execution_count": 2,
   "id": "2f470a7b",
   "metadata": {
    "scrolled": true
   },
   "outputs": [
    {
     "data": {
      "text/plain": [
       "['summary 00 07 08Ch3.xlsx', 'summary 00 07 08Ch4.xlsx']"
      ]
     },
     "execution_count": 2,
     "metadata": {},
     "output_type": "execute_result"
    }
   ],
   "source": [
    "files = os.listdir(path_summary)\n",
    "files = [file for file in files if '00 07' in file and '~' not in file ]\n",
    "files.sort()\n",
    "files"
   ]
  },
  {
   "cell_type": "code",
   "execution_count": 3,
   "id": "baccd4c8",
   "metadata": {},
   "outputs": [
    {
     "name": "stdout",
     "output_type": "stream",
     "text": [
      "with kmon correction\n"
     ]
    }
   ],
   "source": [
    "sheet = pd.ExcelFile(path_summary + files[-1]).sheet_names\n",
    "print(sheet[0])"
   ]
  },
  {
   "cell_type": "code",
   "execution_count": 4,
   "id": "bac99a84",
   "metadata": {
    "scrolled": true
   },
   "outputs": [],
   "source": [
    "df_ch3 = pd.read_excel(path_summary + files[0], sheet[0])\n",
    "df_ch4 = pd.read_excel(path_summary + files[1], sheet[0])"
   ]
  },
  {
   "cell_type": "code",
   "execution_count": 5,
   "id": "19415655",
   "metadata": {},
   "outputs": [],
   "source": [
    "df_all_dict = {'df_ch3': df_ch3, 'df_ch4': df_ch4}"
   ]
  },
  {
   "cell_type": "code",
   "execution_count": 6,
   "id": "4b8828a4",
   "metadata": {},
   "outputs": [],
   "source": [
    "# # 300ohm, channel간 150ohm으로 측정한 값 분리\n",
    "df_all_dict['df_ch3_300'] = df_ch3.iloc[15:41, :]\n",
    "df_all_dict['df_ch4_300'] = df_ch4.iloc[15:41, :]"
   ]
  },
  {
   "cell_type": "code",
   "execution_count": 7,
   "id": "e330ba5b",
   "metadata": {},
   "outputs": [],
   "source": [
    "# # phantom으로 측정한 값 분리\n",
    "\n",
    "# # channel 3을 sweep 하고 channel 4를 open한 값 분리\n",
    "df_all_dict['df_ch3_ch3_curr_sweep_ch4_open'] = df_ch3.iloc[54:305, :]\n",
    "df_all_dict['df_ch4_ch3_curr_sweep_ch4_open'] = df_ch4.iloc[54:305, :]\n",
    "# # channel 4을 sweep 하고 channel 3를 open한 값 분리\n",
    "df_all_dict['df_ch3_ch4_curr_sweep_ch3_open'] = df_ch3.iloc[305:556, :]\n",
    "df_all_dict['df_ch4_ch4_curr_sweep_ch3_open'] = df_ch4.iloc[305:556, :]\n",
    "# # channel 3을 sweep 하고 channel 4를 220ma 고정한 값 분리\n",
    "df_all_dict['df_ch3_ch3_curr_sweep_ch4_220ma'] = df_ch3.iloc[556:807, :]\n",
    "df_all_dict['df_ch4_ch3_curr_sweep_ch4_220ma'] = df_ch4.iloc[556:807, :]\n",
    "# # channel 4을 sweep 하고 channel 3를 220ma 고정한 값 분리\n",
    "df_all_dict['df_ch3_ch4_curr_sweep_ch3_220ma'] = df_ch3.iloc[807:, :]\n",
    "df_all_dict['df_ch4_ch4_curr_sweep_ch3_220ma'] = df_ch4.iloc[807:, :]\n",
    "\n",
    "del df_ch3\n",
    "del df_ch4"
   ]
  },
  {
   "cell_type": "code",
   "execution_count": 8,
   "id": "be612c9b",
   "metadata": {
    "scrolled": true
   },
   "outputs": [
    {
     "name": "stderr",
     "output_type": "stream",
     "text": [
      "/var/folders/99/s34zzfr57xs9_1q57tnxdmrr0000gn/T/ipykernel_2210/664097418.py:4: SettingWithCopyWarning: \n",
      "A value is trying to be set on a copy of a slice from a DataFrame\n",
      "\n",
      "See the caveats in the documentation: https://pandas.pydata.org/pandas-docs/stable/user_guide/indexing.html#returning-a-view-versus-a-copy\n",
      "  df.drop('index', axis=1, inplace=True)\n",
      "/var/folders/99/s34zzfr57xs9_1q57tnxdmrr0000gn/T/ipykernel_2210/664097418.py:4: SettingWithCopyWarning: \n",
      "A value is trying to be set on a copy of a slice from a DataFrame\n",
      "\n",
      "See the caveats in the documentation: https://pandas.pydata.org/pandas-docs/stable/user_guide/indexing.html#returning-a-view-versus-a-copy\n",
      "  df.drop('index', axis=1, inplace=True)\n",
      "/var/folders/99/s34zzfr57xs9_1q57tnxdmrr0000gn/T/ipykernel_2210/664097418.py:4: SettingWithCopyWarning: \n",
      "A value is trying to be set on a copy of a slice from a DataFrame\n",
      "\n",
      "See the caveats in the documentation: https://pandas.pydata.org/pandas-docs/stable/user_guide/indexing.html#returning-a-view-versus-a-copy\n",
      "  df.drop('index', axis=1, inplace=True)\n",
      "/var/folders/99/s34zzfr57xs9_1q57tnxdmrr0000gn/T/ipykernel_2210/664097418.py:4: SettingWithCopyWarning: \n",
      "A value is trying to be set on a copy of a slice from a DataFrame\n",
      "\n",
      "See the caveats in the documentation: https://pandas.pydata.org/pandas-docs/stable/user_guide/indexing.html#returning-a-view-versus-a-copy\n",
      "  df.drop('index', axis=1, inplace=True)\n",
      "/var/folders/99/s34zzfr57xs9_1q57tnxdmrr0000gn/T/ipykernel_2210/664097418.py:4: SettingWithCopyWarning: \n",
      "A value is trying to be set on a copy of a slice from a DataFrame\n",
      "\n",
      "See the caveats in the documentation: https://pandas.pydata.org/pandas-docs/stable/user_guide/indexing.html#returning-a-view-versus-a-copy\n",
      "  df.drop('index', axis=1, inplace=True)\n",
      "/var/folders/99/s34zzfr57xs9_1q57tnxdmrr0000gn/T/ipykernel_2210/664097418.py:4: SettingWithCopyWarning: \n",
      "A value is trying to be set on a copy of a slice from a DataFrame\n",
      "\n",
      "See the caveats in the documentation: https://pandas.pydata.org/pandas-docs/stable/user_guide/indexing.html#returning-a-view-versus-a-copy\n",
      "  df.drop('index', axis=1, inplace=True)\n",
      "/var/folders/99/s34zzfr57xs9_1q57tnxdmrr0000gn/T/ipykernel_2210/664097418.py:4: SettingWithCopyWarning: \n",
      "A value is trying to be set on a copy of a slice from a DataFrame\n",
      "\n",
      "See the caveats in the documentation: https://pandas.pydata.org/pandas-docs/stable/user_guide/indexing.html#returning-a-view-versus-a-copy\n",
      "  df.drop('index', axis=1, inplace=True)\n",
      "/var/folders/99/s34zzfr57xs9_1q57tnxdmrr0000gn/T/ipykernel_2210/664097418.py:4: SettingWithCopyWarning: \n",
      "A value is trying to be set on a copy of a slice from a DataFrame\n",
      "\n",
      "See the caveats in the documentation: https://pandas.pydata.org/pandas-docs/stable/user_guide/indexing.html#returning-a-view-versus-a-copy\n",
      "  df.drop('index', axis=1, inplace=True)\n",
      "/var/folders/99/s34zzfr57xs9_1q57tnxdmrr0000gn/T/ipykernel_2210/664097418.py:4: SettingWithCopyWarning: \n",
      "A value is trying to be set on a copy of a slice from a DataFrame\n",
      "\n",
      "See the caveats in the documentation: https://pandas.pydata.org/pandas-docs/stable/user_guide/indexing.html#returning-a-view-versus-a-copy\n",
      "  df.drop('index', axis=1, inplace=True)\n",
      "/var/folders/99/s34zzfr57xs9_1q57tnxdmrr0000gn/T/ipykernel_2210/664097418.py:4: SettingWithCopyWarning: \n",
      "A value is trying to be set on a copy of a slice from a DataFrame\n",
      "\n",
      "See the caveats in the documentation: https://pandas.pydata.org/pandas-docs/stable/user_guide/indexing.html#returning-a-view-versus-a-copy\n",
      "  df.drop('index', axis=1, inplace=True)\n"
     ]
    }
   ],
   "source": [
    "# # 각 분리한 데이터의 index 초기화\n",
    "for key, df in df_all_dict.items():\n",
    "    df.reset_index(inplace=True)\n",
    "    df.drop('index', axis=1, inplace=True)"
   ]
  },
  {
   "cell_type": "markdown",
   "id": "cf89c657",
   "metadata": {},
   "source": [
    "데이타 간략화 잠시 제거"
   ]
  },
  {
   "cell_type": "code",
   "execution_count": 9,
   "id": "324731ee",
   "metadata": {},
   "outputs": [],
   "source": [
    "# # # 데이타 간략화를 위한 삭제 대상 선정\n",
    "# drop_columns = ['Board', 'PWM', 'V Frequency[MHz]', 'Volt', 'Ave. RP Coff', 'Real P[W]', 'Vmean', 'Imean[mA]', 'FFT V freq[MHz]',\n",
    "#        'FFT V rms', 'FFT V dc abs', 'FFT I freq[MHz]', 'FFT I rms[mA]', 'FFT I dc abs[mA]', 'Usr Status',\n",
    "#        'RF Volt Ch 1', 'RF Volt Ch 2', 'RF Curr Ch 1', 'RF Curr Ch 2', 'CP Pwm Ch 1', 'CP Pwm Ch 2', 'Loop Time 0.1 us']"
   ]
  },
  {
   "cell_type": "code",
   "execution_count": 10,
   "id": "83ff4980",
   "metadata": {},
   "outputs": [],
   "source": [
    "# # # 데이타 삭제\n",
    "# for key, df in (df_all_dict.items()):\n",
    "#     for col in drop_columns:\n",
    "#         df.drop([col], axis=1, inplace=True)\n",
    "#     for col in list(df.columns):\n",
    "#         if 'deviation' in col:\n",
    "#             df.drop([col], axis=1, inplace=True)"
   ]
  },
  {
   "cell_type": "code",
   "execution_count": 11,
   "id": "4689c4a8",
   "metadata": {},
   "outputs": [
    {
     "data": {
      "text/plain": [
       "dict_keys(['df_ch3', 'df_ch4', 'df_ch3_300', 'df_ch4_300', 'df_ch3_ch3_curr_sweep_ch4_open', 'df_ch4_ch3_curr_sweep_ch4_open', 'df_ch3_ch4_curr_sweep_ch3_open', 'df_ch4_ch4_curr_sweep_ch3_open', 'df_ch3_ch3_curr_sweep_ch4_220ma', 'df_ch4_ch3_curr_sweep_ch4_220ma', 'df_ch3_ch4_curr_sweep_ch3_220ma', 'df_ch4_ch4_curr_sweep_ch3_220ma'])"
      ]
     },
     "execution_count": 11,
     "metadata": {},
     "output_type": "execute_result"
    }
   ],
   "source": [
    "df_all_dict.keys()"
   ]
  },
  {
   "cell_type": "code",
   "execution_count": 12,
   "id": "ce05cf3b",
   "metadata": {},
   "outputs": [],
   "source": [
    "for idx, key in enumerate(df_all_dict.keys()):\n",
    "    if idx > 3:\n",
    "        if key == 'df_ch4_ch3_curr_sweep_ch4_220ma':\n",
    "            for i in range(len(df_all_dict[key])):\n",
    "                df_all_dict[key].at[i, 'Curr'] = 223\n",
    "        elif key == 'df_ch3_ch4_curr_sweep_ch3_220ma':\n",
    "            for i in range(len(df_all_dict[key])):\n",
    "                df_all_dict[key].at[i, 'Curr'] = 222\n",
    "        elif key != 'df_ch4_ch3_curr_sweep_ch4_open' and key != 'df_ch3_ch4_curr_sweep_ch3_open':\n",
    "            for i in range(len(df_all_dict[key])):\n",
    "                df_all_dict[key].at[i, 'Curr'] = i"
   ]
  },
  {
   "cell_type": "code",
   "execution_count": 101,
   "id": "d86c4af4",
   "metadata": {
    "scrolled": false
   },
   "outputs": [
    {
     "data": {
      "image/png": "[encoded data removed]",
      "text/plain": [
       "<Figure size 720x1440 with 2 Axes>"
      ]
     },
     "metadata": {},
     "output_type": "display_data"
    }
   ],
   "source": [
    "# # channle 3 변경과 channel 4 단락 또는 220mA 고정 값 비교\n",
    "x =   df_all_dict['df_ch3_ch3_curr_sweep_ch4_open']['Curr']\n",
    "y =   df_all_dict['df_ch3_ch3_curr_sweep_ch4_open']['Irms[mA]']\n",
    "y2 =  df_all_dict['df_ch3_ch3_curr_sweep_ch4_220ma']['Irms[mA]']\n",
    "y3 = (df_all_dict['df_ch3_ch3_curr_sweep_ch4_open']['Vpeak[V]'] / math.sqrt(2)) / df_all_dict['df_ch3_ch3_curr_sweep_ch4_220ma']['Irms[mA]'] * 1000\n",
    "y4 = (df_all_dict['df_ch3_ch3_curr_sweep_ch4_220ma']['Vpeak[V]'] / math.sqrt(2)) / df_all_dict['df_ch4_ch3_curr_sweep_ch4_220ma']['Irms[mA]'] * 1000\n",
    "y5 =  df_all_dict['df_ch3_ch3_curr_sweep_ch4_open']['CP Pwm Ch 3']\n",
    "y6 =  df_all_dict['df_ch3_ch3_curr_sweep_ch4_220ma']['CP Pwm Ch 3']\n",
    "y7 = (df_all_dict['df_ch3_ch3_curr_sweep_ch4_open']['Vpeak[V]'] / math.sqrt(2))\n",
    "y8 = (df_all_dict['df_ch3_ch3_curr_sweep_ch4_220ma']['Vpeak[V]'] / math.sqrt(2))\n",
    "\n",
    "fig = plt.figure(figsize=(10, 20))\n",
    "fig.set_facecolor('white')\n",
    "\n",
    "ax1 = fig.add_subplot()\n",
    "\n",
    "label1 = 'single'\n",
    "label2 = 'multi one 220mA'\n",
    "\n",
    "size = 10\n",
    "ax1.scatter(x[:], y[:], s=size, c='r', label='I ' + label1)\n",
    "ax1.scatter(x[:], y2[:], s=size, c='r', marker='x', label='I ' + label2)\n",
    "ax1.scatter(x[:], y3[:], s=size, c='g', label='impeadance ' + label1)\n",
    "ax1.scatter(x[:], y4[:], s=size, c='g', marker='x', label='impeadance ' + label2)\n",
    "ax1.scatter(x[:], y5[:], s=size, c='orange', label='PWM ' + label1)\n",
    "ax1.scatter(x[:], y6[:], s=size, c='orange', marker='x', label='PWM ' + label2)\n",
    "ax1.set_xlabel('current set')\n",
    "ax1.set_ylabel('current', color='black')\n",
    "ax1.legend(fontsize=15)\n",
    "ax1.grid()\n",
    "\n",
    "ax2 = ax1.twinx()\n",
    "ax2.scatter(x[:], y7[:], s=size, c='b', label='Vrms ' + label1)\n",
    "ax2.scatter(x[:], y8[:], s=size, c='b', marker='x', label='Vrms ' + label2)\n",
    "ax2.set_ylabel('V', color='black')\n",
    "ax2.legend(loc='lower right', fontsize=15)\n",
    "\n",
    "ax1.tick_params(axis='y', labelcolor='black')\n",
    "\n",
    "plt.show()"
   ]
  },
  {
   "cell_type": "code",
   "execution_count": 111,
   "id": "941f11eb",
   "metadata": {},
   "outputs": [
    {
     "name": "stdout",
     "output_type": "stream",
     "text": [
      "Curr set     Irms Multi     Imcu Multi     fixed ch Imcu Multi\n",
      "       0       66.1681       69.2372            218.4442\n",
      "       3       66.2876       70.8000            223.0040\n",
      "       6       66.4507       70.8000            223.0348\n",
      "       9       66.0723       70.8000            222.9917\n",
      "      12       66.0389       70.8000            222.9833\n",
      "      15       65.8721       70.8000            222.9833\n",
      "      18       65.6863       70.8000            222.9120\n",
      "      21       65.6540       70.8000            222.8826\n",
      "      24       66.1009       70.8000            222.8792\n",
      "      27       65.8351       70.8000            223.0375\n",
      "      30       66.0632       70.8000            222.9958\n",
      "      33       65.8388       70.8000            223.0083\n",
      "      36       65.9472       70.8000            222.9478\n",
      "      39       66.6224       70.8000            222.9750\n",
      "      42       66.2093       70.8000            223.0292\n",
      "      45       66.3949       70.8000            222.9375\n",
      "      48       65.9549       70.8000            223.0458\n",
      "      51       65.9441       70.8000            222.9083\n",
      "      54       65.8293       70.8000            223.0042\n",
      "      57       66.0286       70.8000            222.9667\n",
      "      60       65.5873       70.7760            222.9560\n",
      "      63       65.3776       70.7292            222.9625\n",
      "      66       65.5190       70.7043            223.0696\n",
      "      69       65.5517       70.7000            223.0880\n",
      "      72       66.8191       71.8792            223.0292\n",
      "      75       68.6304       74.9417            223.0917\n",
      "      78       72.5114       78.0458            222.9542\n",
      "      81       74.9826       81.0500            222.9667\n",
      "      84       77.6559       83.9250            223.0250\n",
      "      87       79.5834       86.8840            223.1240\n",
      "      90       84.2844       90.0792            223.0500\n",
      "      93       86.3820       92.8875            223.0042\n",
      "      96       89.8441       96.0625            223.0458\n",
      "      99       92.5910       98.8680            222.9640\n"
     ]
    }
   ],
   "source": [
    "target1 = 'Irms[mA]'\n",
    "target2 = 'RF Curr Ch 3'\n",
    "target3 = 'RF Curr Ch 4'\n",
    "# target1 = 'Vpeak[V]'\n",
    "# target2 = 'RF Volt Ch 3'\n",
    "# target3 = 'RF Volt Ch 4'\n",
    "print(\"{}     {}     {}     {}\".format('Curr set', 'Irms Multi', 'Imcu Multi', 'fixed ch Imcu Multi'))\n",
    "for i in range(0, 100, 3):\n",
    "    print(\"{:8} {:13.4f} {:13.4f} {:19.4f}\".format(\n",
    "                                     df_all_dict['df_ch3_ch3_curr_sweep_ch4_220ma']['Curr'][i],\n",
    "                                     df_all_dict['df_ch3_ch3_curr_sweep_ch4_220ma'][target1][i], \n",
    "                                     df_all_dict['df_ch3_ch3_curr_sweep_ch4_220ma'][target2][i], \n",
    "                                     df_all_dict['df_ch3_ch3_curr_sweep_ch4_220ma'][target3][i], \n",
    "                                     ))"
   ]
  },
  {
   "cell_type": "code",
   "execution_count": 112,
   "id": "3272a85b",
   "metadata": {
    "scrolled": false
   },
   "outputs": [
    {
     "name": "stdout",
     "output_type": "stream",
     "text": [
      "Curr set     Ch3 Irms single     Ch3 Irms 2Ch     Ch3 PWM single     Ch3 PWM multi     rate of change PWM Ch3\n",
      "       0               nan           66.1681            0.0000            0.0000               0.00000000\n",
      "       3               nan           66.2876            2.6250            0.0000               0.00000000\n",
      "       6               nan           66.4507            4.0417            0.0000               0.00000000\n",
      "       9               nan           66.0723           14.6000            0.0000               0.00000000\n",
      "      12           12.6026           66.0389           30.2500            0.0000               0.00000000\n",
      "      15           22.7708           65.8721           54.7083            0.0000               0.00000000\n",
      "      18           22.6759           65.6863           53.2400            0.0000               0.00000000\n",
      "      21           22.9097           65.6540           54.6250            0.0000               0.00000000\n",
      "      24           24.5149           66.1009           56.0870            0.0000               0.00000000\n",
      "      27           28.2304           65.8351           64.3333            0.0000               0.00000000\n",
      "      30           32.1702           66.0632           74.3333            0.0000               0.00000000\n",
      "      33           35.1592           65.8388           81.0000            0.0000               0.00000000\n",
      "      36           37.2157           65.9472           87.0000            0.0000               0.00000000\n",
      "      39           39.2223           66.6224           92.2174            0.0000               0.00000000\n",
      "      42           42.2164           66.2093           99.0000            0.0000               0.00000000\n",
      "      45           43.4161           66.3949          103.0000            0.0000               0.00000000\n",
      "      48           47.3007           65.9549          110.4167            0.0000               0.00000000\n",
      "      51           49.0978           65.9441          115.0000            0.0000               0.00000000\n",
      "      54           51.8970           65.8293          121.2500            0.0000               0.00000000\n",
      "      57           54.1171           66.0286          126.6667            0.0000               0.00000000\n",
      "      60           57.5702           65.5873          133.3333            0.0000               0.00000000\n",
      "      63           59.1903           65.3776          138.9130            0.0000               0.00000000\n",
      "      66           62.9990           65.5190          146.9167            0.0000               0.00000000\n",
      "      69           64.6367           65.5517          151.0000            0.0000               0.00000000\n",
      "      72           67.5140           66.8191          159.0000          270.0833               0.03996526\n",
      "      75           69.5233           68.6304          163.2609          274.5833               0.08620067\n",
      "      78           73.2735           72.5114          171.0833          282.1250               0.05253967\n",
      "      81           75.6531           74.9826          177.0000          286.3333               0.05527708\n",
      "      84           79.4627           77.6559          185.0000          293.1667               0.05527708\n",
      "      87           81.5711           79.5834          189.9167          297.7600               0.08616264\n",
      "      90           85.3898           84.2844          198.3043          305.0000               0.00000000\n",
      "      93           88.3609           86.3820          203.0000          309.0833               0.03996526\n",
      "      96           91.0741           89.8441          211.0000          316.9167               0.03996526\n",
      "      99           93.1310           92.5910          217.0000          321.0000               0.00000000\n"
     ]
    }
   ],
   "source": [
    "target = 'Irms[mA]'\n",
    "target2 = 'CP Pwm Ch 3'\n",
    "print(\"{}     {}     {}     {}     {}     {}\".format('Curr set', 'Ch3 Irms single', 'Ch3 Irms 2Ch', 'Ch3 PWM single', 'Ch3 PWM multi', 'rate of change PWM Ch3'))\n",
    "for i in range(0, 100, 3):\n",
    "    print(\"{:8} {:17.4f} {:17.4f} {:17.4f} {:17.4f} {:24.8f}\".format(\n",
    "                                     df_all_dict['df_ch3_ch3_curr_sweep_ch4_220ma']['Curr'][i],\n",
    "                                     df_all_dict['df_ch3_ch3_curr_sweep_ch4_open'][target][i], \n",
    "                                     df_all_dict['df_ch3_ch3_curr_sweep_ch4_220ma'][target][i], \n",
    "                                     df_all_dict['df_ch3_ch3_curr_sweep_ch4_open'][target2][i], \n",
    "                                     df_all_dict['df_ch3_ch3_curr_sweep_ch4_220ma'][target2][i], \n",
    "                                     df_all_dict['df_ch3_ch3_curr_sweep_ch4_220ma']['CP Pwm Ch 3 deviation'][i]))"
   ]
  },
  {
   "cell_type": "code",
   "execution_count": 22,
   "id": "f5718cfc",
   "metadata": {},
   "outputs": [
    {
     "data": {
      "text/html": [
       "<div>\n",
       "<style scoped>\n",
       "    .dataframe tbody tr th:only-of-type {\n",
       "        vertical-align: middle;\n",
       "    }\n",
       "\n",
       "    .dataframe tbody tr th {\n",
       "        vertical-align: top;\n",
       "    }\n",
       "\n",
       "    .dataframe thead th {\n",
       "        text-align: right;\n",
       "    }\n",
       "</style>\n",
       "<table border=\"1\" class=\"dataframe\">\n",
       "  <thead>\n",
       "    <tr style=\"text-align: right;\">\n",
       "      <th></th>\n",
       "      <th>filename</th>\n",
       "      <th>Board</th>\n",
       "      <th>ohm</th>\n",
       "      <th>Ch</th>\n",
       "      <th>PWM</th>\n",
       "      <th>Volt</th>\n",
       "      <th>Curr</th>\n",
       "      <th>V Frequency[MHz]</th>\n",
       "      <th>Delay(degree)</th>\n",
       "      <th>Ave. RP Coff</th>\n",
       "      <th>...</th>\n",
       "      <th>CP Pwm Ch 1</th>\n",
       "      <th>CP Pwm Ch 1 deviation</th>\n",
       "      <th>CP Pwm Ch 2</th>\n",
       "      <th>CP Pwm Ch 2 deviation</th>\n",
       "      <th>CP Pwm Ch 3</th>\n",
       "      <th>CP Pwm Ch 3 deviation</th>\n",
       "      <th>CP Pwm Ch 4</th>\n",
       "      <th>CP Pwm Ch 4 deviation</th>\n",
       "      <th>Loop Time 0.1 us</th>\n",
       "      <th>Loop Time 0.1 us deviation</th>\n",
       "    </tr>\n",
       "  </thead>\n",
       "  <tbody>\n",
       "    <tr>\n",
       "      <th>0</th>\n",
       "      <td>tek00554</td>\n",
       "      <td>RFAMP_08</td>\n",
       "      <td>phantom1</td>\n",
       "      <td>Ch3</td>\n",
       "      <td>-</td>\n",
       "      <td>-</td>\n",
       "      <td>0</td>\n",
       "      <td>0.144872</td>\n",
       "      <td>228.205964</td>\n",
       "      <td>-0.026280</td>\n",
       "      <td>...</td>\n",
       "      <td>0.0</td>\n",
       "      <td>0.0</td>\n",
       "      <td>0.0</td>\n",
       "      <td>0.0</td>\n",
       "      <td>0.0</td>\n",
       "      <td>0.0</td>\n",
       "      <td>337.441860</td>\n",
       "      <td>3.731033</td>\n",
       "      <td>6.569767</td>\n",
       "      <td>0.045927</td>\n",
       "    </tr>\n",
       "    <tr>\n",
       "      <th>1</th>\n",
       "      <td>tek00555</td>\n",
       "      <td>RFAMP_08</td>\n",
       "      <td>phantom1</td>\n",
       "      <td>Ch3</td>\n",
       "      <td>-</td>\n",
       "      <td>-</td>\n",
       "      <td>1</td>\n",
       "      <td>0.144439</td>\n",
       "      <td>171.955636</td>\n",
       "      <td>0.142170</td>\n",
       "      <td>...</td>\n",
       "      <td>0.0</td>\n",
       "      <td>0.0</td>\n",
       "      <td>0.0</td>\n",
       "      <td>0.0</td>\n",
       "      <td>0.0</td>\n",
       "      <td>0.0</td>\n",
       "      <td>344.000000</td>\n",
       "      <td>0.000000</td>\n",
       "      <td>6.554167</td>\n",
       "      <td>0.049826</td>\n",
       "    </tr>\n",
       "    <tr>\n",
       "      <th>2</th>\n",
       "      <td>tek00556</td>\n",
       "      <td>RFAMP_08</td>\n",
       "      <td>phantom1</td>\n",
       "      <td>Ch3</td>\n",
       "      <td>-</td>\n",
       "      <td>-</td>\n",
       "      <td>2</td>\n",
       "      <td>0.145304</td>\n",
       "      <td>133.117200</td>\n",
       "      <td>0.223853</td>\n",
       "      <td>...</td>\n",
       "      <td>0.0</td>\n",
       "      <td>0.0</td>\n",
       "      <td>0.0</td>\n",
       "      <td>0.0</td>\n",
       "      <td>0.0</td>\n",
       "      <td>0.0</td>\n",
       "      <td>344.000000</td>\n",
       "      <td>0.000000</td>\n",
       "      <td>6.587500</td>\n",
       "      <td>0.033072</td>\n",
       "    </tr>\n",
       "    <tr>\n",
       "      <th>3</th>\n",
       "      <td>tek00557</td>\n",
       "      <td>RFAMP_08</td>\n",
       "      <td>phantom1</td>\n",
       "      <td>Ch3</td>\n",
       "      <td>-</td>\n",
       "      <td>-</td>\n",
       "      <td>3</td>\n",
       "      <td>0.150196</td>\n",
       "      <td>69.318000</td>\n",
       "      <td>0.352209</td>\n",
       "      <td>...</td>\n",
       "      <td>0.0</td>\n",
       "      <td>0.0</td>\n",
       "      <td>0.0</td>\n",
       "      <td>0.0</td>\n",
       "      <td>0.0</td>\n",
       "      <td>0.0</td>\n",
       "      <td>343.760000</td>\n",
       "      <td>0.064992</td>\n",
       "      <td>6.560000</td>\n",
       "      <td>0.048990</td>\n",
       "    </tr>\n",
       "    <tr>\n",
       "      <th>4</th>\n",
       "      <td>tek00558</td>\n",
       "      <td>RFAMP_08</td>\n",
       "      <td>phantom1</td>\n",
       "      <td>Ch3</td>\n",
       "      <td>-</td>\n",
       "      <td>-</td>\n",
       "      <td>4</td>\n",
       "      <td>0.145506</td>\n",
       "      <td>245.556000</td>\n",
       "      <td>-0.103723</td>\n",
       "      <td>...</td>\n",
       "      <td>0.0</td>\n",
       "      <td>0.0</td>\n",
       "      <td>0.0</td>\n",
       "      <td>0.0</td>\n",
       "      <td>0.0</td>\n",
       "      <td>0.0</td>\n",
       "      <td>343.478261</td>\n",
       "      <td>0.087822</td>\n",
       "      <td>6.582609</td>\n",
       "      <td>0.037903</td>\n",
       "    </tr>\n",
       "  </tbody>\n",
       "</table>\n",
       "<p>5 rows × 49 columns</p>\n",
       "</div>"
      ],
      "text/plain": [
       "   filename     Board       ohm   Ch PWM Volt Curr  V Frequency[MHz]  \\\n",
       "0  tek00554  RFAMP_08  phantom1  Ch3   -    -    0          0.144872   \n",
       "1  tek00555  RFAMP_08  phantom1  Ch3   -    -    1          0.144439   \n",
       "2  tek00556  RFAMP_08  phantom1  Ch3   -    -    2          0.145304   \n",
       "3  tek00557  RFAMP_08  phantom1  Ch3   -    -    3          0.150196   \n",
       "4  tek00558  RFAMP_08  phantom1  Ch3   -    -    4          0.145506   \n",
       "\n",
       "   Delay(degree)  Ave. RP Coff  ...  CP Pwm Ch 1  CP Pwm Ch 1 deviation  \\\n",
       "0     228.205964     -0.026280  ...          0.0                    0.0   \n",
       "1     171.955636      0.142170  ...          0.0                    0.0   \n",
       "2     133.117200      0.223853  ...          0.0                    0.0   \n",
       "3      69.318000      0.352209  ...          0.0                    0.0   \n",
       "4     245.556000     -0.103723  ...          0.0                    0.0   \n",
       "\n",
       "   CP Pwm Ch 2  CP Pwm Ch 2 deviation  CP Pwm Ch 3  CP Pwm Ch 3 deviation  \\\n",
       "0          0.0                    0.0          0.0                    0.0   \n",
       "1          0.0                    0.0          0.0                    0.0   \n",
       "2          0.0                    0.0          0.0                    0.0   \n",
       "3          0.0                    0.0          0.0                    0.0   \n",
       "4          0.0                    0.0          0.0                    0.0   \n",
       "\n",
       "   CP Pwm Ch 4  CP Pwm Ch 4 deviation  Loop Time 0.1 us  \\\n",
       "0   337.441860               3.731033          6.569767   \n",
       "1   344.000000               0.000000          6.554167   \n",
       "2   344.000000               0.000000          6.587500   \n",
       "3   343.760000               0.064992          6.560000   \n",
       "4   343.478261               0.087822          6.582609   \n",
       "\n",
       "   Loop Time 0.1 us deviation  \n",
       "0                    0.045927  \n",
       "1                    0.049826  \n",
       "2                    0.033072  \n",
       "3                    0.048990  \n",
       "4                    0.037903  \n",
       "\n",
       "[5 rows x 49 columns]"
      ]
     },
     "execution_count": 22,
     "metadata": {},
     "output_type": "execute_result"
    }
   ],
   "source": [
    "df_all_dict['df_ch3_ch3_curr_sweep_ch4_220ma'].head()"
   ]
  },
  {
   "cell_type": "code",
   "execution_count": 55,
   "id": "325ee289",
   "metadata": {
    "scrolled": true
   },
   "outputs": [
    {
     "name": "stdout",
     "output_type": "stream",
     "text": [
      "Curr set     Ch3 delay single     Ch3 delay multi     Ch4 delay single     Ch4 delay multi\n",
      "       0               nan          228.2060               nan          -95.9652\n",
      "       2               nan          133.1172               nan          -99.6228\n",
      "       4               nan          245.5560               nan          -95.5764\n",
      "       6               nan          140.5846               nan          -95.1588\n",
      "       8               nan           67.2228          -51.4584          -99.5832\n",
      "      10           22.1364           66.1464         -361.7607          -95.6592\n",
      "      12         -321.8544           66.3300          -30.9600         -100.1304\n",
      "      14           30.3578           62.7300          362.5501         -100.2024\n",
      "      16           25.4841           68.1912            0.7128         -102.0888\n",
      "      18           22.3697           63.4104          327.6720          -97.4664\n",
      "      20           22.9431           64.3716         -306.5668          -94.2912\n",
      "      22         -322.4160           62.0388         -363.8186          -97.8336\n",
      "      24         -300.4164           58.7127          342.7841          -96.1092\n",
      "      26           23.4851           59.8572          343.2240          -99.5868\n",
      "      28           19.9980           56.2860            0.6228         -100.4148\n",
      "      30           23.5793           59.8068            0.1263          -99.0900\n",
      "      32           21.5175           58.1760         -358.9763          -96.5736\n",
      "      34           22.8708           48.2472            2.7180         -100.8108\n",
      "      36           20.9196           52.6356            0.2700          -92.3688\n",
      "      38           21.4036           64.5408            2.0412         -102.0348\n",
      "      40           23.4301           61.3597         -360.1231          -89.7228\n",
      "      42         -321.1992           59.0112           -1.1052         -100.7316\n",
      "      44           21.0816           54.5688            1.4400         -109.2060\n",
      "      46           21.8121           51.2156            0.4068          -96.0300\n",
      "      48           25.7158           47.9772            1.8792         -105.2100\n",
      "      50           23.5244           48.7335           -0.7488         -102.3048\n",
      "      52           21.4979           65.5056            1.1016         -108.3744\n",
      "      54           22.4892           44.3988           -0.2916         -107.4492\n",
      "      56           22.5360         -284.3676            0.7668         -105.8364\n",
      "      58           23.5224         -287.8776            0.0000         -105.3468\n",
      "      60           22.7114           60.9041            1.3248          -96.6564\n",
      "      62           22.6476           58.7700           -1.0296          -98.7804\n",
      "      64           23.4380           58.0464            0.0324          -95.6088\n",
      "      66           22.8636           53.1252           -1.2204         -111.2904\n",
      "      68           23.2380           54.0000            0.4752         -109.3572\n",
      "      70           21.0266           52.8140            0.1584          -99.9324\n",
      "      72           22.0824           19.0692            0.3132          -98.3844\n",
      "      74           21.7139           21.2400           -0.2376          -99.2988\n",
      "      76           22.1688           22.0359           -0.6588         -111.3948\n",
      "      78           22.6224           20.3983            0.5976         -100.5480\n",
      "      80           22.7196           20.8332           -0.1224         -110.9664\n",
      "      82           21.1896           25.0020            0.3456         -101.9772\n",
      "      84           22.7880           23.3005           -0.3132         -106.1064\n",
      "      86           21.1572           21.9142            0.1620          -28.6776\n",
      "      88           22.1112           21.9024           -1.5588          -26.6832\n",
      "      90           22.3884           24.1841           -0.5796          -23.9580\n",
      "      92           23.3460           23.4262           -0.0684          -23.3316\n",
      "      94           22.2012           22.8780           -0.2736          -21.7728\n",
      "      96           22.5216           22.8924            0.1512          -22.5504\n",
      "      98           22.7736           23.4324            0.5904          -20.8728\n"
     ]
    }
   ],
   "source": [
    "target = 'Delay(degree)'\n",
    "# target2 = 'CP Pwm Ch 3'\n",
    "print(\"{}     {}     {}     {}     {}\".format('Curr set', 'Ch3 delay single', 'Ch3 delay multi', 'Ch4 delay single', 'Ch4 delay multi'))\n",
    "for i in range(0, 100, 2):\n",
    "    print(\"{:8} {:17.4f} {:17.4f} {:17.4f} {:17.4f}\".format(\n",
    "                                     df_all_dict['df_ch4_ch4_curr_sweep_ch3_220ma']['Curr'][i],\n",
    "                                     df_all_dict['df_ch3_ch3_curr_sweep_ch4_open'][target][i], \n",
    "                                     df_all_dict['df_ch3_ch3_curr_sweep_ch4_220ma'][target][i], \n",
    "                                     df_all_dict['df_ch4_ch4_curr_sweep_ch3_open'][target][i], \n",
    "                                     df_all_dict['df_ch4_ch4_curr_sweep_ch3_220ma'][target][i],\n",
    "                                     ))"
   ]
  },
  {
   "cell_type": "code",
   "execution_count": 130,
   "id": "39758e54",
   "metadata": {},
   "outputs": [
    {
     "name": "stdout",
     "output_type": "stream",
     "text": [
      "415.5\n",
      "221.7022399212192\n",
      "465.4166666666666\n",
      "25.71507531875621\n"
     ]
    }
   ],
   "source": [
    "print(df_all_dict['df_ch4_ch4_curr_sweep_ch3_open']['CP Pwm Ch 4'][223])\n",
    "print(df_all_dict['df_ch4_ch4_curr_sweep_ch3_open']['Irms[mA]'][223])\n",
    "print(df_all_dict['df_ch3_ch3_curr_sweep_ch4_open']['CP Pwm Ch 3'][222])\n",
    "print(df_all_dict['df_ch3_ch3_curr_sweep_ch4_open']['Irms[mA]'][222])"
   ]
  },
  {
   "cell_type": "code",
   "execution_count": 129,
   "id": "ba046a22",
   "metadata": {},
   "outputs": [
    {
     "name": "stdout",
     "output_type": "stream",
     "text": [
      "Curr set         PWM single         PWM multi   PWM single(fixed Ch)  PWM multi(fixed Ch)     \n",
      "       0            0.0000            0.0000          415.5000          337.4419          218.4442\n",
      "      10           20.0435            0.0000          415.5000          342.0000          222.9348\n",
      "      20           55.0000            0.0000          415.5000          340.4000          223.0080\n",
      "      30           74.3333            0.0000          415.5000          339.6667          222.9958\n",
      "      40           93.6400            0.0000          415.5000          338.4000          223.0800\n",
      "      50          113.0000            0.0000          415.5000          338.0000          222.8917\n",
      "      60          133.3333            0.0000          415.5000          337.5200          222.9560\n",
      "      70          153.0000            0.0000          415.5000          336.4167          223.0542\n",
      "      80          175.0000          284.3600          415.5000          411.8800          223.0880\n",
      "      90          198.3043          305.0000          415.5000          416.4167          223.0500\n",
      "     100          220.4167          324.7826          415.5000          420.4783          222.9565\n",
      "     110          241.0000          343.0000          415.5000          424.5000          222.8458\n",
      "     120          262.8333          361.6667          415.5000          428.7500          222.9708\n",
      "     130          283.9167          381.0800          415.5000          432.6000          223.0480\n",
      "     140          307.0000          400.9583          415.5000          436.4167          222.9167\n",
      "     150          328.7500          419.7500          415.5000          439.6667          222.9417\n",
      "     160          347.0000          437.2500          415.5000          443.5000          223.0708\n",
      "     170          368.0000          454.3200          415.5000          446.4400          222.8560\n",
      "     180          389.8696          474.0000          415.5000          450.5833          222.9833\n",
      "     190          409.9583          491.5833          415.5000          453.7500          223.0375\n",
      "     200          427.8400          506.4000          415.5000          456.3600          223.0440\n",
      "     210          448.8333          525.1667          415.5000          459.7500          223.0000\n",
      "     220          465.4167          540.0000          415.5000          461.9565          222.9043\n",
      "     230          485.0000          556.0000          415.5000          465.0833          222.9792\n",
      "     240          503.4583          572.0833          415.5000          467.8333          222.9958\n"
     ]
    }
   ],
   "source": [
    "target2 = 'CP Pwm Ch 4'\n",
    "target = 'CP Pwm Ch 3'\n",
    "print(\"{}         {}         {}   {}  {}     \".format('Curr set', 'PWM single', 'PWM multi', 'PWM single(fixed Ch)', 'PWM multi(fixed Ch)'))\n",
    "for i in range(0, 250, 10):\n",
    "    print(\"{:8} {:17.4f} {:17.4f} {:17.4f} {:17.4f} {:17.4f}\".format(\n",
    "                                     df_all_dict['df_ch3_ch3_curr_sweep_ch4_220ma']['Curr'][i],\n",
    "                                     df_all_dict['df_ch3_ch3_curr_sweep_ch4_open'][target][i], \n",
    "                                     df_all_dict['df_ch3_ch3_curr_sweep_ch4_220ma'][target][i], \n",
    "                                     415.5, \n",
    "                                     df_all_dict['df_ch3_ch3_curr_sweep_ch4_220ma'][target2][i], \n",
    "                                     df_all_dict['df_ch3_ch3_curr_sweep_ch4_220ma']['RF Curr Ch 4'][i],    \n",
    "                                     ))"
   ]
  },
  {
   "cell_type": "code",
   "execution_count": 69,
   "id": "a737c07a",
   "metadata": {},
   "outputs": [
    {
     "data": {
      "text/plain": [
       "Index(['filename', 'Board', 'ohm', 'Ch', 'PWM', 'Volt', 'Curr',\n",
       "       'V Frequency[MHz]', 'Delay(degree)', 'Ave. RP Coff', 'Vpeak[V]',\n",
       "       'Irms[mA]', 'Real P[W]', 'Vmean', 'Imean[mA]', 'FFT V freq[MHz]',\n",
       "       'FFT V rms', 'FFT V dc abs', 'FFT I freq[MHz]', 'FFT I rms[mA]',\n",
       "       'FFT I dc abs[mA]', 'Usr Status', 'Usr Status deviation',\n",
       "       'RF Volt Ch 1', 'RF Volt Ch 1 deviation', 'RF Volt Ch 2',\n",
       "       'RF Volt Ch 2 deviation', 'RF Volt Ch 3', 'RF Volt Ch 3 deviation',\n",
       "       'RF Volt Ch 4', 'RF Volt Ch 4 deviation', 'RF Curr Ch 1',\n",
       "       'RF Curr Ch 1 deviation', 'RF Curr Ch 2', 'RF Curr Ch 2 deviation',\n",
       "       'RF Curr Ch 3', 'RF Curr Ch 3 deviation', 'RF Curr Ch 4',\n",
       "       'RF Curr Ch 4 deviation', 'CP Pwm Ch 1', 'CP Pwm Ch 1 deviation',\n",
       "       'CP Pwm Ch 2', 'CP Pwm Ch 2 deviation', 'CP Pwm Ch 3',\n",
       "       'CP Pwm Ch 3 deviation', 'CP Pwm Ch 4', 'CP Pwm Ch 4 deviation',\n",
       "       'Loop Time 0.1 us', 'Loop Time 0.1 us deviation'],\n",
       "      dtype='object')"
      ]
     },
     "execution_count": 69,
     "metadata": {},
     "output_type": "execute_result"
    }
   ],
   "source": [
    "target2 = 'CP Pwm Ch 4'\n",
    "target = 'CP Pwm Ch 3'\n",
    "print(\"{}     {}     {}     {}     {}     \".format('Curr set', 'Ch3 PWM single', 'Ch3 PWM multi', 'Ch4 PWM single', 'Ch4 PWM multi'))\n",
    "for i in range(0, 250, 5):\n",
    "    print(\"{:8} {:17.4f} {:17.4f} {:17.4f} {:17.4f} {:17.4f}\".format(\n",
    "                                     df_all_dict['df_ch3_ch3_curr_sweep_ch4_220ma']['Curr'][i],\n",
    "                                     df_all_dict['df_ch3_ch3_curr_sweep_ch4_open'][target][i], \n",
    "                                     df_all_dict['df_ch3_ch3_curr_sweep_ch4_220ma'][target][i], \n",
    "                                     409.0833, \n",
    "                                     df_all_dict['df_ch3_ch3_curr_sweep_ch4_220ma'][target2][i], \n",
    "                                     df_all_dict['df_ch3_ch3_curr_sweep_ch4_220ma']['RF Curr Ch 4'][i],    \n",
    "                                     ))"
   ]
  },
  {
   "cell_type": "code",
   "execution_count": null,
   "id": "eee3a3f1",
   "metadata": {},
   "outputs": [],
   "source": []
  },
  {
   "cell_type": "code",
   "execution_count": null,
   "id": "d1ef9dd0",
   "metadata": {},
   "outputs": [],
   "source": []
  },
  {
   "cell_type": "code",
   "execution_count": null,
   "id": "1fd0bdc8",
   "metadata": {},
   "outputs": [],
   "source": []
  },
  {
   "cell_type": "code",
   "execution_count": null,
   "id": "1a327b3c",
   "metadata": {},
   "outputs": [],
   "source": []
  },
  {
   "cell_type": "code",
   "execution_count": null,
   "id": "1c5471c7",
   "metadata": {},
   "outputs": [],
   "source": []
  },
  {
   "cell_type": "code",
   "execution_count": null,
   "id": "bd550f1c",
   "metadata": {},
   "outputs": [],
   "source": []
  },
  {
   "cell_type": "code",
   "execution_count": null,
   "id": "1e029fc4",
   "metadata": {},
   "outputs": [],
   "source": []
  },
  {
   "cell_type": "code",
   "execution_count": null,
   "id": "dce7fafb",
   "metadata": {},
   "outputs": [],
   "source": []
  },
  {
   "cell_type": "code",
   "execution_count": null,
   "id": "43c6fde8",
   "metadata": {},
   "outputs": [],
   "source": []
  },
  {
   "cell_type": "code",
   "execution_count": null,
   "id": "7679a102",
   "metadata": {},
   "outputs": [],
   "source": []
  },
  {
   "cell_type": "code",
   "execution_count": null,
   "id": "2e8ea063",
   "metadata": {},
   "outputs": [],
   "source": []
  },
  {
   "cell_type": "code",
   "execution_count": null,
   "id": "5b9bed36",
   "metadata": {},
   "outputs": [],
   "source": [
    "df_phantom = df.iloc[:13, :]\n",
    "df_R_non_inter = df.iloc[13:26, :]\n",
    "df_R = df.iloc[26:, :]\n",
    "\n",
    "df_R.reset_index(inplace=True)\n",
    "df_R = df_R.drop(['index'], axis=1)\n",
    "df_R_non_inter.reset_index(inplace=True)\n",
    "df_R_non_inter = df_R_non_inter.drop(['index'], axis=1)"
   ]
  },
  {
   "cell_type": "code",
   "execution_count": null,
   "id": "36167a3c",
   "metadata": {},
   "outputs": [],
   "source": [
    "df_phantom = df.iloc[:13, :]\n",
    "df_R_non_inter = df.iloc[13:26, :]\n",
    "df_R = df.iloc[26:, :]"
   ]
  },
  {
   "cell_type": "code",
   "execution_count": null,
   "id": "8bb24751",
   "metadata": {
    "scrolled": true
   },
   "outputs": [],
   "source": [
    "df_R.reset_index(inplace=True)\n",
    "df_R = df_R.drop(['index'], axis=1)\n",
    "df_R_non_inter.reset_index(inplace=True)\n",
    "df_R_non_inter = df_R_non_inter.drop(['index'], axis=1)"
   ]
  },
  {
   "cell_type": "code",
   "execution_count": null,
   "id": "13377275",
   "metadata": {},
   "outputs": [],
   "source": [
    "for i in range(len(df_R_non_inter)):\n",
    "    resistor = df_R_non_inter.at[i, 'Vp_ch3'] / math.sqrt(2) / (df_R_non_inter.at[i, 'Irms_ch3'] * 10**-3)\n",
    "    if np.isnan(resistor):\n",
    "        print(\"{} = {} / {}\".format(resistor, df_R_non_inter.at[i, 'Vp_ch3'] / math.sqrt(2), df_R_non_inter.at[i, 'Irms_ch3'] * 10**-3))\n",
    "    else:\n",
    "        print(\"{:.2f} = {:.2f} / {:.2f}   Ch3 {:6.1f}mA Ch4 {:6.1f}mA\".format(resistor, df_R_non_inter.at[i, 'Vp_ch3'] / math.sqrt(2), df_R_non_inter.at[i, 'Irms_ch3'] * 10**-3, df_R_non_inter.at[i, 'Irms_ch3'], df_R_non_inter.at[i, 'Irms_ch4']))"
   ]
  },
  {
   "cell_type": "code",
   "execution_count": null,
   "id": "67aaffd7",
   "metadata": {
    "scrolled": true
   },
   "outputs": [],
   "source": [
    "for i in range(len(df_R)):\n",
    "    resistor = df_R.at[i, 'Vp_ch3'] / math.sqrt(2) / (df_R.at[i, 'Irms_ch3'] * 10**-3)\n",
    "    if np.isnan(resistor):\n",
    "        print(\"{} = {} / {}\".format(resistor, df_R.at[i, 'Vp_ch3'] / math.sqrt(2), df_R.at[i, 'Irms_ch3'] * 10**-3))\n",
    "    else:\n",
    "        print(\"{:8.2f} = {:05.2f} / {:04.2f}   Ch3 {:6.1f}mA Ch4 {:6.1f}mA\".format(resistor, df_R.at[i, 'Vp_ch3'] / math.sqrt(2), df_R.at[i, 'Irms_ch3'] * 10**-3, df_R.at[i, 'Irms_ch3'], df_R.at[i, 'Irms_ch4']))"
   ]
  },
  {
   "cell_type": "code",
   "execution_count": null,
   "id": "39e42f59",
   "metadata": {},
   "outputs": [],
   "source": [
    "for i in range(len(df_phantom)):\n",
    "    resistor = df_phantom.at[i, 'Vp_ch3'] / math.sqrt(2) / (df_phantom.at[i, 'Irms_ch3'] * 10**-3)\n",
    "    if np.isnan(resistor):\n",
    "        print(\"{} = {} / {}\".format(resistor, df_phantom.at[i, 'Vp_ch3'] / math.sqrt(2), df_phantom.at[i, 'Irms_ch3'] * 10**-3))\n",
    "    else:\n",
    "        print(\"{:6.2f} = {:5.2f} / {:4.2f}   Ch3 {:6.1f}mA Ch4 {:6.1f}mA\".format(resistor, df_phantom.at[i, 'Vp_ch3'] / math.sqrt(2), df_phantom.at[i, 'Irms_ch3'] * 10**-3, df_phantom.at[i, 'Irms_ch3'], df_phantom.at[i, 'Irms_ch4']))"
   ]
  },
  {
   "cell_type": "code",
   "execution_count": null,
   "id": "4c969fd0",
   "metadata": {
    "scrolled": true
   },
   "outputs": [],
   "source": [
    "for i in range(len(df_R)):\n",
    "    print(\"{:4.0f} {:4.0f} || {:3.0f} {:4.0f}\".format(df_R.at[i, 'Irms_ch3'], df_R.at[i, 'Irms_ch4'], df_phantom.at[i, 'Irms_ch3'], df_phantom.at[i, 'Irms_ch4']))"
   ]
  },
  {
   "cell_type": "code",
   "execution_count": null,
   "id": "d3f3d208",
   "metadata": {
    "scrolled": true
   },
   "outputs": [],
   "source": [
    "for i in range(len(df_phantom)):\n",
    "    print(\"{:4.0f} {:4.0f} || {:3.0f} {:4.0f}\".format(df_R.at[i, 'Irms_ch3'], df_R.at[i, 'Irms_ch4'], df_R.at[i, 'PWM_ch3'], df_R.at[i, 'PWM_ch4'], df_phantom.at[i, 'Irms_ch3'], df_phantom.at[i, 'Irms_ch4']))"
   ]
  },
  {
   "cell_type": "markdown",
   "id": "cee6641f",
   "metadata": {},
   "source": [
    "위 두 결과를 보면 동일 전류밸런스가 깨지면 전류가 높은 쪽은 낮은 PWM으로 고전류, 전류가 낮은 쪽은 보다 높은 PWM으로 동작함\n",
    "이는 저전류쪽에서 고전류쪽으로 인입이되는 듯\n",
    "추가 확인 사항은 전류프루브를 V+에서도 동시확인 필요\n",
    "R model은 Imuc 상에서는 전류프루브와 다르고 phantom model은 전류프루브와 비슷한듯\n"
   ]
  },
  {
   "cell_type": "code",
   "execution_count": null,
   "id": "4a797b65",
   "metadata": {},
   "outputs": [],
   "source": []
  },
  {
   "cell_type": "code",
   "execution_count": null,
   "id": "f496732b",
   "metadata": {},
   "outputs": [],
   "source": []
  },
  {
   "cell_type": "code",
   "execution_count": null,
   "id": "bbc090f2",
   "metadata": {},
   "outputs": [],
   "source": []
  },
  {
   "cell_type": "code",
   "execution_count": null,
   "id": "da364299",
   "metadata": {},
   "outputs": [],
   "source": []
  },
  {
   "cell_type": "code",
   "execution_count": null,
   "id": "d8e7c1f2",
   "metadata": {},
   "outputs": [],
   "source": []
  },
  {
   "cell_type": "code",
   "execution_count": null,
   "id": "40fc66f1",
   "metadata": {},
   "outputs": [],
   "source": []
  },
  {
   "cell_type": "code",
   "execution_count": null,
   "id": "74970867",
   "metadata": {},
   "outputs": [],
   "source": []
  },
  {
   "cell_type": "code",
   "execution_count": null,
   "id": "538e1aa7",
   "metadata": {},
   "outputs": [],
   "source": []
  },
  {
   "cell_type": "code",
   "execution_count": null,
   "id": "dfc9dbfc",
   "metadata": {},
   "outputs": [],
   "source": []
  },
  {
   "cell_type": "code",
   "execution_count": null,
   "id": "6908bf87",
   "metadata": {},
   "outputs": [],
   "source": []
  },
  {
   "cell_type": "code",
   "execution_count": null,
   "id": "2bfe4686",
   "metadata": {},
   "outputs": [],
   "source": []
  },
  {
   "cell_type": "code",
   "execution_count": null,
   "id": "938ad422",
   "metadata": {},
   "outputs": [],
   "source": []
  },
  {
   "cell_type": "code",
   "execution_count": null,
   "id": "8a8acdde",
   "metadata": {},
   "outputs": [],
   "source": []
  },
  {
   "cell_type": "code",
   "execution_count": null,
   "id": "cea0aae4",
   "metadata": {},
   "outputs": [],
   "source": []
  },
  {
   "cell_type": "code",
   "execution_count": null,
   "id": "9242482a",
   "metadata": {},
   "outputs": [],
   "source": []
  },
  {
   "cell_type": "code",
   "execution_count": null,
   "id": "7e73f04f",
   "metadata": {},
   "outputs": [],
   "source": []
  },
  {
   "cell_type": "code",
   "execution_count": null,
   "id": "18e0309f",
   "metadata": {},
   "outputs": [],
   "source": []
  },
  {
   "cell_type": "code",
   "execution_count": null,
   "id": "446bb6b9",
   "metadata": {},
   "outputs": [],
   "source": []
  },
  {
   "cell_type": "code",
   "execution_count": null,
   "id": "2c76b3af",
   "metadata": {},
   "outputs": [],
   "source": []
  },
  {
   "cell_type": "code",
   "execution_count": null,
   "id": "60484bc8",
   "metadata": {},
   "outputs": [],
   "source": []
  },
  {
   "cell_type": "code",
   "execution_count": null,
   "id": "f59420cc",
   "metadata": {},
   "outputs": [],
   "source": []
  }
 ],
 "metadata": {
  "kernelspec": {
   "display_name": "test310",
   "language": "python",
   "name": "test310"
  },
  "language_info": {
   "codemirror_mode": {
    "name": "ipython",
    "version": 3
   },
   "file_extension": ".py",
   "mimetype": "text/x-python",
   "name": "python",
   "nbconvert_exporter": "python",
   "pygments_lexer": "ipython3",
   "version": "3.10.4"
  }
 },
 "nbformat": 4,
 "nbformat_minor": 5
}
