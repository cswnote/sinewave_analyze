{
 "cells": [
  {
   "cell_type": "code",
   "execution_count": null,
   "id": "3e5b4c29",
   "metadata": {},
   "outputs": [],
   "source": [
    "import os\n",
    "import pandas as pd\n",
    "import platform\n",
    "import FILE_MANAGEMENT\n",
    "import TEK_CSV\n",
    "import GET_SUMMARY"
   ]
  },
  {
   "cell_type": "code",
   "execution_count": null,
   "id": "414c1c6b",
   "metadata": {},
   "outputs": [],
   "source": [
    "if platform.platform()[:3].lower() == 'mac':\n",
    "    mac_m1 = True\n",
    "elif platform.platform()[:3].lower() == 'win':\n",
    "    mac_m1 = False"
   ]
  },
  {
   "cell_type": "code",
   "execution_count": null,
   "id": "bc365408",
   "metadata": {},
   "outputs": [],
   "source": [
    "if mac_m1:\n",
    "    path = '/Users/rainyseason/winston/Workspace/python/Pycharm Project/sinewave_analyze/Evaluation/'\n",
    "    path_csv = path + 'tek_csv/'\n",
    "    path_excel = path + 'tek_excel/'\n",
    "    path_summary = path + 'summary/'\n",
    "    path_information = path + 'test information/'\n",
    "    path_kmon = path + 'kmon_csv'\n",
    "else:\n",
    "    path = 'D:/data_analyze/'\n",
    "    path_csv = path + 'tek_csv/'\n",
    "    path_excel = path + 'tek_excel/'\n",
    "    path_summary = path + 'summary/'\n",
    "    path_information = path + 'test information/'\n",
    "    path_kmon = path + 'kmon_csv/'"
   ]
  },
  {
   "cell_type": "code",
   "execution_count": null,
   "id": "73e7e133",
   "metadata": {},
   "outputs": [],
   "source": [
    "evaluation_control_file = 'eval_control.xlsx'\n",
    "# kmon_file = 'info_kmon_00_elechub.xlsx'"
   ]
  },
  {
   "cell_type": "code",
   "execution_count": null,
   "id": "eba196f8",
   "metadata": {},
   "outputs": [],
   "source": [
    "evaluation_control_file = os.path.join(path, evaluation_control_file)\n",
    "# kmon_file = os.path.join(path_kmon, kmon_file)"
   ]
  },
  {
   "cell_type": "code",
   "execution_count": null,
   "id": "ca917d8c",
   "metadata": {},
   "outputs": [],
   "source": [
    "print(evaluation_control_file)\n",
    "# print(kmon_file)"
   ]
  },
  {
   "cell_type": "code",
   "execution_count": null,
   "id": "437ea2d3",
   "metadata": {},
   "outputs": [],
   "source": [
    "df_ctrl = pd.read_excel(evaluation_control_file, sheet_name='kmon digit change')\n",
    "# df_kmon = pd.read_excel(kmon_file)"
   ]
  },
  {
   "cell_type": "code",
   "execution_count": null,
   "id": "a004ba58",
   "metadata": {},
   "outputs": [],
   "source": [
    "kmon_files = df_ctrl.iloc[:, 0]\n",
    "kmon_files = kmon_files.dropna()"
   ]
  },
  {
   "cell_type": "code",
   "execution_count": null,
   "id": "39a4f7ea",
   "metadata": {},
   "outputs": [],
   "source": [
    "kmon_file = os.path.join(path_kmon, kmon_files[0] + '.xlsx')\n",
    "df_kmon = pd.read_excel(kmon_file)"
   ]
  },
  {
   "cell_type": "code",
   "execution_count": null,
   "id": "284f2952",
   "metadata": {},
   "outputs": [],
   "source": [
    "df_kmon.drop([df_kmon.columns[0]], axis=1, inplace=True)\n",
    "df_kmon"
   ]
  },
  {
   "cell_type": "code",
   "execution_count": null,
   "id": "8c585c02",
   "metadata": {},
   "outputs": [],
   "source": [
    "for i in range(len(df_ctrl)):\n",
    "    name, digit = df_ctrl.iloc[i, :].Name, df_ctrl.iloc[i, :].digit\n",
    "    command, digit = digit.split(' ')[0], int(digit.split(' ')[1])\n",
    "    for row, data in enumerate(df_kmon[name]):\n",
    "        if command.lower() == 'reduce':\n",
    "            df_kmon.at[row, name] = data / (digit * 10)"
   ]
  },
  {
   "cell_type": "code",
   "execution_count": null,
   "id": "c8514a69",
   "metadata": {},
   "outputs": [],
   "source": [
    "df_kmon"
   ]
  },
  {
   "cell_type": "code",
   "execution_count": null,
   "id": "fc9f18ce",
   "metadata": {},
   "outputs": [],
   "source": []
  }
 ],
 "metadata": {
  "kernelspec": {
   "display_name": "autotest",
   "language": "python",
   "name": "autotest"
  },
  "language_info": {
   "codemirror_mode": {
    "name": "ipython",
    "version": 3
   },
   "file_extension": ".py",
   "mimetype": "text/x-python",
   "name": "python",
   "nbconvert_exporter": "python",
   "pygments_lexer": "ipython3",
   "version": "3.8.0"
  }
 },
 "nbformat": 4,
 "nbformat_minor": 5
}
